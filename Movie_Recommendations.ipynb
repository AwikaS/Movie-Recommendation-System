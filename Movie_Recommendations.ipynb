{
 "cells": [
  {
   "cell_type": "markdown",
   "metadata": {
    "_cell_guid": "da447453-96e3-48fe-93cd-b9195433add6",
    "_uuid": "b63091dc0b9d04f19ab8861754a83b79c1789e96"
   },
   "source": [
    "# Movie Recommendation System\n",
    "\n",
    "A set of systems for providing movie recommendations to users.\n",
    "\n",
    "Uses the MovieLens Latest Datasets from https://grouplens.org/datasets/movielens/latest/\n",
    "\n",
    "* **Full:** contains 27,000,000 ratings and 1,100,000 tag applications applied to 58,000 movies by 280,000 users. Includes tag genome data with 14 million relevance scores across 1,100 tags. Last updated 9/2018.\n",
    "* **Small:** contains 100,000 ratings and 3,600 tag applications applied to 9,000 movies by 600 users. Last updated 9/2018.\n",
    "\n",
    "The simple recommender uses the full dataset. All systems with more personalized recommendations will use the small dataset."
   ]
  },
  {
   "cell_type": "code",
   "execution_count": 1,
   "metadata": {
    "_cell_guid": "78fea705-f9ad-4a81-aafd-8b7b624110d1",
    "_uuid": "1c291fe3725c706e0003f01f0102abb9709f25fc",
    "jupyter": {
     "outputs_hidden": true
    }
   },
   "outputs": [],
   "source": [
    "import pandas as pd\n",
    "import numpy as np\n",
    "from ast import literal_eval"
   ]
  },
  {
   "cell_type": "markdown",
   "metadata": {
    "_cell_guid": "f130bae8-1bb0-415d-9a39-557fe180b490",
    "_uuid": "49131e65f312719487848f6ef42488041a44028e"
   },
   "source": [
    "## 1. Simple Recommender System\n",
    "\n",
    "General recommendations based only on popularity and genre, not personalized according to the user.\n",
    "\n",
    "This system operates under the assumption that if a movie is popular and critically acclaimed, it is more likely that it will appeal to the average user.\n",
    "\n",
    "To implement this model, the movies are sorted according to ratings and popularity."
   ]
  },
  {
   "cell_type": "code",
   "execution_count": 2,
   "metadata": {
    "_cell_guid": "0356d2a0-d8b2-4234-af78-bd51eaa3a390",
    "_uuid": "e0d62612bc9b9e9561afdc48fd1e75a9b0c82337"
   },
   "outputs": [
    {
     "data": {
      "text/html": [
       "<div>\n",
       "<style scoped>\n",
       "    .dataframe tbody tr th:only-of-type {\n",
       "        vertical-align: middle;\n",
       "    }\n",
       "\n",
       "    .dataframe tbody tr th {\n",
       "        vertical-align: top;\n",
       "    }\n",
       "\n",
       "    .dataframe thead th {\n",
       "        text-align: right;\n",
       "    }\n",
       "</style>\n",
       "<table border=\"1\" class=\"dataframe\">\n",
       "  <thead>\n",
       "    <tr style=\"text-align: right;\">\n",
       "      <th></th>\n",
       "      <th>id</th>\n",
       "      <th>title</th>\n",
       "      <th>release_date</th>\n",
       "      <th>genres</th>\n",
       "      <th>vote_count</th>\n",
       "      <th>vote_average</th>\n",
       "      <th>popularity</th>\n",
       "    </tr>\n",
       "  </thead>\n",
       "  <tbody>\n",
       "    <tr>\n",
       "      <th>0</th>\n",
       "      <td>862</td>\n",
       "      <td>Toy Story</td>\n",
       "      <td>1995-10-30</td>\n",
       "      <td>['Animation', 'Comedy', 'Family']</td>\n",
       "      <td>5415</td>\n",
       "      <td>7.7</td>\n",
       "      <td>21.946943</td>\n",
       "    </tr>\n",
       "    <tr>\n",
       "      <th>1</th>\n",
       "      <td>8844</td>\n",
       "      <td>Jumanji</td>\n",
       "      <td>1995-12-15</td>\n",
       "      <td>['Adventure', 'Fantasy', 'Family']</td>\n",
       "      <td>2413</td>\n",
       "      <td>6.9</td>\n",
       "      <td>17.015539</td>\n",
       "    </tr>\n",
       "    <tr>\n",
       "      <th>2</th>\n",
       "      <td>15602</td>\n",
       "      <td>Grumpier Old Men</td>\n",
       "      <td>1995-12-22</td>\n",
       "      <td>['Romance', 'Comedy']</td>\n",
       "      <td>92</td>\n",
       "      <td>6.5</td>\n",
       "      <td>11.712900</td>\n",
       "    </tr>\n",
       "    <tr>\n",
       "      <th>3</th>\n",
       "      <td>31357</td>\n",
       "      <td>Waiting to Exhale</td>\n",
       "      <td>1995-12-22</td>\n",
       "      <td>['Comedy', 'Drama', 'Romance']</td>\n",
       "      <td>34</td>\n",
       "      <td>6.1</td>\n",
       "      <td>3.859495</td>\n",
       "    </tr>\n",
       "    <tr>\n",
       "      <th>4</th>\n",
       "      <td>11862</td>\n",
       "      <td>Father of the Bride Part II</td>\n",
       "      <td>1995-02-10</td>\n",
       "      <td>['Comedy']</td>\n",
       "      <td>173</td>\n",
       "      <td>5.7</td>\n",
       "      <td>8.387519</td>\n",
       "    </tr>\n",
       "  </tbody>\n",
       "</table>\n",
       "</div>"
      ],
      "text/plain": [
       "      id                        title release_date  \\\n",
       "0    862                    Toy Story   1995-10-30   \n",
       "1   8844                      Jumanji   1995-12-15   \n",
       "2  15602             Grumpier Old Men   1995-12-22   \n",
       "3  31357            Waiting to Exhale   1995-12-22   \n",
       "4  11862  Father of the Bride Part II   1995-02-10   \n",
       "\n",
       "                               genres  vote_count  vote_average  popularity  \n",
       "0   ['Animation', 'Comedy', 'Family']        5415           7.7   21.946943  \n",
       "1  ['Adventure', 'Fantasy', 'Family']        2413           6.9   17.015539  \n",
       "2               ['Romance', 'Comedy']          92           6.5   11.712900  \n",
       "3      ['Comedy', 'Drama', 'Romance']          34           6.1    3.859495  \n",
       "4                          ['Comedy']         173           5.7    8.387519  "
      ]
     },
     "execution_count": 2,
     "metadata": {},
     "output_type": "execute_result"
    }
   ],
   "source": [
    "try:\n",
    "    md = pd.read_csv('/Users/awikasaeng/Downloads/Movie-Recommender-Systems-main/input/movies-data/metadata_small.csv',\n",
    "                     dtype = {'id': int, 'vote_count': int, 'vote_averages': float})\n",
    "except FileNotFoundError:\n",
    "    cols = ['id', 'title', 'release_date', 'genres', 'vote_count', 'vote_average', 'popularity']\n",
    "    md = pd.read_csv('../input/the-movies-dataset/movies_metadata.csv',\n",
    "                     #skiprows=[19731, 29504, 35588],  #skip error data\n",
    "                     usecols=cols)\n",
    "    #extract genres\n",
    "    md['genres'] = md['genres'].apply(lambda x: [i['name'] for i in literal_eval(x)])\n",
    "    md = md[md['title'].notnull()].astype({'vote_count': int})\n",
    "    md = md[cols]\n",
    "    md.to_csv('../input/movies-data/metadata_small.csv', index=False)\n",
    "\n",
    "# display movies with genres\n",
    "md.head()"
   ]
  },
  {
   "cell_type": "markdown",
   "metadata": {
    "_cell_guid": "23cf39ba-ef09-4972-9d1f-ed91cb2ef134",
    "_uuid": "9571875d383f237f126febe9c76f966e2869fdc3",
    "pycharm": {
     "name": "#%% md\n"
    }
   },
   "source": [
    "IMDb uses its own weighted rating formula to provide recommendations, so we will use that here as a better metric of popularity compared to the raw vote average.\n",
    "The formula is:\n",
    "\n",
    "Weighted Rating (WR) = $(\\frac{v}{v + m} . R) + (\\frac{m}{v + m} . C)$\n",
    "\n",
    "* *v* = # of votes for the movie\n",
    "* *m* = minimum votes required to be listed in the chart\n",
    "* *R* = raw average rating of the movie\n",
    "* *C* = mean average rating of all movies\n",
    "\n",
    "For *m*, we will use the 95th percentile of movies, so all the movies in our chart will be the top 5% of movies with the most votes."
   ]
  },
  {
   "cell_type": "code",
   "execution_count": 3,
   "metadata": {
    "_cell_guid": "de5d2a9a-9d67-4309-9256-844756318bd0",
    "_uuid": "1e732487caba09d9543f3da49cbe7ff5092e2675"
   },
   "outputs": [
    {
     "name": "stdout",
     "output_type": "stream",
     "text": [
      "C = 5.618207215133889\n",
      "m95 = 434.0\n"
     ]
    },
    {
     "data": {
      "text/plain": [
       "(2274, 7)"
      ]
     },
     "execution_count": 3,
     "metadata": {},
     "output_type": "execute_result"
    }
   ],
   "source": [
    "print(f\"C = {md['vote_average'].mean()}\")\n",
    "print(f\"m95 = {md['vote_count'].quantile(0.95)}\")\n",
    "md[md['vote_count'] >= 434].copy().shape"
   ]
  },
  {
   "cell_type": "markdown",
   "metadata": {
    "_cell_guid": "46efcb66-53a0-4f6a-b0df-92ba7b623143",
    "_uuid": "4c114ab330fc78c91953166d515a8e963ebc3238"
   },
   "source": [
    "The mean average rating of movies in our dataset is **5.618** on a rating scale of 1 to 10.\n",
    "\n",
    "The movies at or above the 95th percentile have at least **434** votes, and *2,274* of them fit this criteria."
   ]
  },
  {
   "cell_type": "code",
   "execution_count": 4,
   "metadata": {
    "_cell_guid": "db959c40-7618-4755-a05a-5347f9460929",
    "_uuid": "6414e1aa7ed8cb4184ec451f02a18cd187e5345e",
    "jupyter": {
     "outputs_hidden": true
    }
   },
   "outputs": [],
   "source": [
    "def weighted_rating(df, percentile=0.95):\n",
    "    C = df['vote_average'].mean()\n",
    "    m = df['vote_count'].quantile(percentile)\n",
    "    qualified = df[df['vote_count'] >= m].copy()\n",
    "    R = qualified['vote_average']\n",
    "    v = qualified['vote_count']\n",
    "    qualified['weighted_rating'] = (v / (v + m) * R) + (m / (m + v) * C)\n",
    "    qualified = qualified.sort_values('weighted_rating', ascending=False)\n",
    "    return qualified"
   ]
  },
  {
   "cell_type": "markdown",
   "metadata": {
    "_cell_guid": "36a1b9ac-aff3-4d80-9e19-83a45f282062",
    "_uuid": "75eb9e1de05386d229746785a25c6a5c6ee4b61a"
   },
   "source": [
    "### Top Movies"
   ]
  },
  {
   "cell_type": "code",
   "execution_count": 5,
   "metadata": {
    "_cell_guid": "0bca5b03-0835-4902-aaa1-beceb9d9d47f",
    "_uuid": "f7f6821b7e9aff099b81fcc425fd20109894b351",
    "pycharm": {
     "name": "#%%\n"
    }
   },
   "outputs": [
    {
     "data": {
      "text/html": [
       "<div>\n",
       "<style scoped>\n",
       "    .dataframe tbody tr th:only-of-type {\n",
       "        vertical-align: middle;\n",
       "    }\n",
       "\n",
       "    .dataframe tbody tr th {\n",
       "        vertical-align: top;\n",
       "    }\n",
       "\n",
       "    .dataframe thead th {\n",
       "        text-align: right;\n",
       "    }\n",
       "</style>\n",
       "<table border=\"1\" class=\"dataframe\">\n",
       "  <thead>\n",
       "    <tr style=\"text-align: right;\">\n",
       "      <th></th>\n",
       "      <th>id</th>\n",
       "      <th>title</th>\n",
       "      <th>release_date</th>\n",
       "      <th>genres</th>\n",
       "      <th>vote_count</th>\n",
       "      <th>vote_average</th>\n",
       "      <th>popularity</th>\n",
       "      <th>weighted_rating</th>\n",
       "    </tr>\n",
       "  </thead>\n",
       "  <tbody>\n",
       "    <tr>\n",
       "      <th>314</th>\n",
       "      <td>278</td>\n",
       "      <td>The Shawshank Redemption</td>\n",
       "      <td>1994-09-23</td>\n",
       "      <td>['Drama', 'Crime']</td>\n",
       "      <td>8358</td>\n",
       "      <td>8.5</td>\n",
       "      <td>51.645403</td>\n",
       "      <td>8.357746</td>\n",
       "    </tr>\n",
       "    <tr>\n",
       "      <th>834</th>\n",
       "      <td>238</td>\n",
       "      <td>The Godfather</td>\n",
       "      <td>1972-03-14</td>\n",
       "      <td>['Drama', 'Crime']</td>\n",
       "      <td>6024</td>\n",
       "      <td>8.5</td>\n",
       "      <td>41.109264</td>\n",
       "      <td>8.306334</td>\n",
       "    </tr>\n",
       "    <tr>\n",
       "      <th>12481</th>\n",
       "      <td>155</td>\n",
       "      <td>The Dark Knight</td>\n",
       "      <td>2008-07-16</td>\n",
       "      <td>['Drama', 'Action', 'Crime', 'Thriller']</td>\n",
       "      <td>12269</td>\n",
       "      <td>8.3</td>\n",
       "      <td>123.167259</td>\n",
       "      <td>8.208376</td>\n",
       "    </tr>\n",
       "    <tr>\n",
       "      <th>2843</th>\n",
       "      <td>550</td>\n",
       "      <td>Fight Club</td>\n",
       "      <td>1999-10-15</td>\n",
       "      <td>['Drama']</td>\n",
       "      <td>9678</td>\n",
       "      <td>8.3</td>\n",
       "      <td>63.869599</td>\n",
       "      <td>8.184899</td>\n",
       "    </tr>\n",
       "    <tr>\n",
       "      <th>292</th>\n",
       "      <td>680</td>\n",
       "      <td>Pulp Fiction</td>\n",
       "      <td>1994-09-10</td>\n",
       "      <td>['Thriller', 'Crime']</td>\n",
       "      <td>8670</td>\n",
       "      <td>8.3</td>\n",
       "      <td>140.950236</td>\n",
       "      <td>8.172155</td>\n",
       "    </tr>\n",
       "    <tr>\n",
       "      <th>351</th>\n",
       "      <td>13</td>\n",
       "      <td>Forrest Gump</td>\n",
       "      <td>1994-07-06</td>\n",
       "      <td>['Comedy', 'Drama', 'Romance']</td>\n",
       "      <td>8147</td>\n",
       "      <td>8.2</td>\n",
       "      <td>48.307194</td>\n",
       "      <td>8.069421</td>\n",
       "    </tr>\n",
       "    <tr>\n",
       "      <th>522</th>\n",
       "      <td>424</td>\n",
       "      <td>Schindler's List</td>\n",
       "      <td>1993-11-29</td>\n",
       "      <td>['Drama', 'History', 'War']</td>\n",
       "      <td>4436</td>\n",
       "      <td>8.3</td>\n",
       "      <td>41.725123</td>\n",
       "      <td>8.061007</td>\n",
       "    </tr>\n",
       "    <tr>\n",
       "      <th>23671</th>\n",
       "      <td>244786</td>\n",
       "      <td>Whiplash</td>\n",
       "      <td>2014-10-10</td>\n",
       "      <td>['Drama']</td>\n",
       "      <td>4376</td>\n",
       "      <td>8.3</td>\n",
       "      <td>64.299990</td>\n",
       "      <td>8.058025</td>\n",
       "    </tr>\n",
       "    <tr>\n",
       "      <th>5481</th>\n",
       "      <td>129</td>\n",
       "      <td>Spirited Away</td>\n",
       "      <td>2001-07-20</td>\n",
       "      <td>['Fantasy', 'Adventure', 'Animation', 'Family']</td>\n",
       "      <td>3968</td>\n",
       "      <td>8.3</td>\n",
       "      <td>41.048867</td>\n",
       "      <td>8.035598</td>\n",
       "    </tr>\n",
       "    <tr>\n",
       "      <th>1154</th>\n",
       "      <td>1891</td>\n",
       "      <td>The Empire Strikes Back</td>\n",
       "      <td>1980-05-17</td>\n",
       "      <td>['Adventure', 'Action', 'Science Fiction']</td>\n",
       "      <td>5998</td>\n",
       "      <td>8.2</td>\n",
       "      <td>19.470959</td>\n",
       "      <td>8.025793</td>\n",
       "    </tr>\n",
       "    <tr>\n",
       "      <th>15480</th>\n",
       "      <td>27205</td>\n",
       "      <td>Inception</td>\n",
       "      <td>2010-07-14</td>\n",
       "      <td>['Action', 'Thriller', 'Science Fiction', 'Mys...</td>\n",
       "      <td>14075</td>\n",
       "      <td>8.1</td>\n",
       "      <td>29.108149</td>\n",
       "      <td>8.025763</td>\n",
       "    </tr>\n",
       "    <tr>\n",
       "      <th>2211</th>\n",
       "      <td>637</td>\n",
       "      <td>Life Is Beautiful</td>\n",
       "      <td>1997-12-20</td>\n",
       "      <td>['Comedy', 'Drama']</td>\n",
       "      <td>3643</td>\n",
       "      <td>8.3</td>\n",
       "      <td>39.394970</td>\n",
       "      <td>8.014521</td>\n",
       "    </tr>\n",
       "    <tr>\n",
       "      <th>18465</th>\n",
       "      <td>77338</td>\n",
       "      <td>The Intouchables</td>\n",
       "      <td>2011-11-02</td>\n",
       "      <td>['Drama', 'Comedy']</td>\n",
       "      <td>5410</td>\n",
       "      <td>8.2</td>\n",
       "      <td>16.086919</td>\n",
       "      <td>8.008265</td>\n",
       "    </tr>\n",
       "    <tr>\n",
       "      <th>22877</th>\n",
       "      <td>157336</td>\n",
       "      <td>Interstellar</td>\n",
       "      <td>2014-11-05</td>\n",
       "      <td>['Adventure', 'Drama', 'Science Fiction']</td>\n",
       "      <td>11187</td>\n",
       "      <td>8.1</td>\n",
       "      <td>32.213481</td>\n",
       "      <td>8.007315</td>\n",
       "    </tr>\n",
       "    <tr>\n",
       "      <th>1178</th>\n",
       "      <td>240</td>\n",
       "      <td>The Godfather: Part II</td>\n",
       "      <td>1974-12-20</td>\n",
       "      <td>['Drama', 'Crime']</td>\n",
       "      <td>3418</td>\n",
       "      <td>8.3</td>\n",
       "      <td>36.629307</td>\n",
       "      <td>7.997846</td>\n",
       "    </tr>\n",
       "  </tbody>\n",
       "</table>\n",
       "</div>"
      ],
      "text/plain": [
       "           id                     title release_date  \\\n",
       "314       278  The Shawshank Redemption   1994-09-23   \n",
       "834       238             The Godfather   1972-03-14   \n",
       "12481     155           The Dark Knight   2008-07-16   \n",
       "2843      550                Fight Club   1999-10-15   \n",
       "292       680              Pulp Fiction   1994-09-10   \n",
       "351        13              Forrest Gump   1994-07-06   \n",
       "522       424          Schindler's List   1993-11-29   \n",
       "23671  244786                  Whiplash   2014-10-10   \n",
       "5481      129             Spirited Away   2001-07-20   \n",
       "1154     1891   The Empire Strikes Back   1980-05-17   \n",
       "15480   27205                 Inception   2010-07-14   \n",
       "2211      637         Life Is Beautiful   1997-12-20   \n",
       "18465   77338          The Intouchables   2011-11-02   \n",
       "22877  157336              Interstellar   2014-11-05   \n",
       "1178      240    The Godfather: Part II   1974-12-20   \n",
       "\n",
       "                                                  genres  vote_count  \\\n",
       "314                                   ['Drama', 'Crime']        8358   \n",
       "834                                   ['Drama', 'Crime']        6024   \n",
       "12481           ['Drama', 'Action', 'Crime', 'Thriller']       12269   \n",
       "2843                                           ['Drama']        9678   \n",
       "292                                ['Thriller', 'Crime']        8670   \n",
       "351                       ['Comedy', 'Drama', 'Romance']        8147   \n",
       "522                          ['Drama', 'History', 'War']        4436   \n",
       "23671                                          ['Drama']        4376   \n",
       "5481     ['Fantasy', 'Adventure', 'Animation', 'Family']        3968   \n",
       "1154          ['Adventure', 'Action', 'Science Fiction']        5998   \n",
       "15480  ['Action', 'Thriller', 'Science Fiction', 'Mys...       14075   \n",
       "2211                                 ['Comedy', 'Drama']        3643   \n",
       "18465                                ['Drama', 'Comedy']        5410   \n",
       "22877          ['Adventure', 'Drama', 'Science Fiction']       11187   \n",
       "1178                                  ['Drama', 'Crime']        3418   \n",
       "\n",
       "       vote_average  popularity  weighted_rating  \n",
       "314             8.5   51.645403         8.357746  \n",
       "834             8.5   41.109264         8.306334  \n",
       "12481           8.3  123.167259         8.208376  \n",
       "2843            8.3   63.869599         8.184899  \n",
       "292             8.3  140.950236         8.172155  \n",
       "351             8.2   48.307194         8.069421  \n",
       "522             8.3   41.725123         8.061007  \n",
       "23671           8.3   64.299990         8.058025  \n",
       "5481            8.3   41.048867         8.035598  \n",
       "1154            8.2   19.470959         8.025793  \n",
       "15480           8.1   29.108149         8.025763  \n",
       "2211            8.3   39.394970         8.014521  \n",
       "18465           8.2   16.086919         8.008265  \n",
       "22877           8.1   32.213481         8.007315  \n",
       "1178            8.3   36.629307         7.997846  "
      ]
     },
     "execution_count": 5,
     "metadata": {},
     "output_type": "execute_result"
    }
   ],
   "source": [
    "weighted_rating(md).head(15)"
   ]
  },
  {
   "cell_type": "markdown",
   "metadata": {
    "_cell_guid": "0942cc17-4e7c-4293-be59-0993261af6e3",
    "_uuid": "dd0636ab9235cef9afab293696b5c57521cc28b9"
   },
   "source": [
    "Here the movies are sorted by weighted rating. As you can see, most of the top movies are drama movies.\n",
    "\n",
    "We can also build charts for specific genres. Since drama movies dominated the 95th percentile, let's try using a lower percentile to get more diverse movies."
   ]
  },
  {
   "cell_type": "code",
   "execution_count": 6,
   "metadata": {
    "_cell_guid": "759652cb-5b16-4951-995c-6a3bdbae0e4e",
    "_uuid": "1fdfea9cd4b046b11ff8f2ac4f2bea74fccb8a8b",
    "jupyter": {
     "outputs_hidden": true
    }
   },
   "outputs": [],
   "source": [
    "def build_chart(genre, percentile=0.85):\n",
    "    df = md[md.genres.apply(lambda x: genre in x)]\n",
    "    return weighted_rating(df, percentile)"
   ]
  },
  {
   "cell_type": "markdown",
   "metadata": {
    "_cell_guid": "55f22de0-0df9-405a-9197-df5a8c0e8466",
    "_uuid": "a76ce0f8a8f614aa6f23cb9a6e0fd6af6d048642"
   },
   "source": [
    "### Top Comedy Movies"
   ]
  },
  {
   "cell_type": "code",
   "execution_count": 7,
   "metadata": {
    "_cell_guid": "af61da24-494b-48ac-b7b7-64ec0eaedaf8",
    "_uuid": "bf2816495a16de1bb84dc826fd33eee7e663f45d"
   },
   "outputs": [
    {
     "data": {
      "text/html": [
       "<div>\n",
       "<style scoped>\n",
       "    .dataframe tbody tr th:only-of-type {\n",
       "        vertical-align: middle;\n",
       "    }\n",
       "\n",
       "    .dataframe tbody tr th {\n",
       "        vertical-align: top;\n",
       "    }\n",
       "\n",
       "    .dataframe thead th {\n",
       "        text-align: right;\n",
       "    }\n",
       "</style>\n",
       "<table border=\"1\" class=\"dataframe\">\n",
       "  <thead>\n",
       "    <tr style=\"text-align: right;\">\n",
       "      <th></th>\n",
       "      <th>id</th>\n",
       "      <th>title</th>\n",
       "      <th>release_date</th>\n",
       "      <th>genres</th>\n",
       "      <th>vote_count</th>\n",
       "      <th>vote_average</th>\n",
       "      <th>popularity</th>\n",
       "      <th>weighted_rating</th>\n",
       "    </tr>\n",
       "  </thead>\n",
       "  <tbody>\n",
       "    <tr>\n",
       "      <th>10309</th>\n",
       "      <td>19404</td>\n",
       "      <td>Dilwale Dulhania Le Jayenge</td>\n",
       "      <td>1995-10-20</td>\n",
       "      <td>['Comedy', 'Drama', 'Romance']</td>\n",
       "      <td>661</td>\n",
       "      <td>9.1</td>\n",
       "      <td>34.457024</td>\n",
       "      <td>8.605916</td>\n",
       "    </tr>\n",
       "    <tr>\n",
       "      <th>2211</th>\n",
       "      <td>637</td>\n",
       "      <td>Life Is Beautiful</td>\n",
       "      <td>1997-12-20</td>\n",
       "      <td>['Comedy', 'Drama']</td>\n",
       "      <td>3643</td>\n",
       "      <td>8.3</td>\n",
       "      <td>39.394970</td>\n",
       "      <td>8.222252</td>\n",
       "    </tr>\n",
       "    <tr>\n",
       "      <th>351</th>\n",
       "      <td>13</td>\n",
       "      <td>Forrest Gump</td>\n",
       "      <td>1994-07-06</td>\n",
       "      <td>['Comedy', 'Drama', 'Romance']</td>\n",
       "      <td>8147</td>\n",
       "      <td>8.2</td>\n",
       "      <td>48.307194</td>\n",
       "      <td>8.166014</td>\n",
       "    </tr>\n",
       "    <tr>\n",
       "      <th>18465</th>\n",
       "      <td>77338</td>\n",
       "      <td>The Intouchables</td>\n",
       "      <td>2011-11-02</td>\n",
       "      <td>['Drama', 'Comedy']</td>\n",
       "      <td>5410</td>\n",
       "      <td>8.2</td>\n",
       "      <td>16.086919</td>\n",
       "      <td>8.149172</td>\n",
       "    </tr>\n",
       "    <tr>\n",
       "      <th>1225</th>\n",
       "      <td>105</td>\n",
       "      <td>Back to the Future</td>\n",
       "      <td>1985-07-03</td>\n",
       "      <td>['Adventure', 'Comedy', 'Science Fiction', 'Fa...</td>\n",
       "      <td>6239</td>\n",
       "      <td>8.0</td>\n",
       "      <td>25.778509</td>\n",
       "      <td>7.959364</td>\n",
       "    </tr>\n",
       "    <tr>\n",
       "      <th>22839</th>\n",
       "      <td>120467</td>\n",
       "      <td>The Grand Budapest Hotel</td>\n",
       "      <td>2014-02-26</td>\n",
       "      <td>['Comedy', 'Drama']</td>\n",
       "      <td>4644</td>\n",
       "      <td>8.0</td>\n",
       "      <td>14.442048</td>\n",
       "      <td>7.945739</td>\n",
       "    </tr>\n",
       "    <tr>\n",
       "      <th>22129</th>\n",
       "      <td>106646</td>\n",
       "      <td>The Wolf of Wall Street</td>\n",
       "      <td>2013-12-25</td>\n",
       "      <td>['Crime', 'Drama', 'Comedy']</td>\n",
       "      <td>6768</td>\n",
       "      <td>7.9</td>\n",
       "      <td>16.382422</td>\n",
       "      <td>7.864130</td>\n",
       "    </tr>\n",
       "    <tr>\n",
       "      <th>30311</th>\n",
       "      <td>150540</td>\n",
       "      <td>Inside Out</td>\n",
       "      <td>2015-06-09</td>\n",
       "      <td>['Drama', 'Comedy', 'Animation', 'Family']</td>\n",
       "      <td>6737</td>\n",
       "      <td>7.9</td>\n",
       "      <td>23.985587</td>\n",
       "      <td>7.863968</td>\n",
       "    </tr>\n",
       "    <tr>\n",
       "      <th>40876</th>\n",
       "      <td>313369</td>\n",
       "      <td>La La Land</td>\n",
       "      <td>2016-11-29</td>\n",
       "      <td>['Comedy', 'Drama', 'Music', 'Romance']</td>\n",
       "      <td>4745</td>\n",
       "      <td>7.9</td>\n",
       "      <td>19.681686</td>\n",
       "      <td>7.849193</td>\n",
       "    </tr>\n",
       "    <tr>\n",
       "      <th>732</th>\n",
       "      <td>935</td>\n",
       "      <td>Dr. Strangelove or: How I Learned to Stop Worr...</td>\n",
       "      <td>1964-01-29</td>\n",
       "      <td>['Drama', 'Comedy', 'War']</td>\n",
       "      <td>1472</td>\n",
       "      <td>8.0</td>\n",
       "      <td>9.803980</td>\n",
       "      <td>7.837147</td>\n",
       "    </tr>\n",
       "  </tbody>\n",
       "</table>\n",
       "</div>"
      ],
      "text/plain": [
       "           id                                              title release_date  \\\n",
       "10309   19404                        Dilwale Dulhania Le Jayenge   1995-10-20   \n",
       "2211      637                                  Life Is Beautiful   1997-12-20   \n",
       "351        13                                       Forrest Gump   1994-07-06   \n",
       "18465   77338                                   The Intouchables   2011-11-02   \n",
       "1225      105                                 Back to the Future   1985-07-03   \n",
       "22839  120467                           The Grand Budapest Hotel   2014-02-26   \n",
       "22129  106646                            The Wolf of Wall Street   2013-12-25   \n",
       "30311  150540                                         Inside Out   2015-06-09   \n",
       "40876  313369                                         La La Land   2016-11-29   \n",
       "732       935  Dr. Strangelove or: How I Learned to Stop Worr...   1964-01-29   \n",
       "\n",
       "                                                  genres  vote_count  \\\n",
       "10309                     ['Comedy', 'Drama', 'Romance']         661   \n",
       "2211                                 ['Comedy', 'Drama']        3643   \n",
       "351                       ['Comedy', 'Drama', 'Romance']        8147   \n",
       "18465                                ['Drama', 'Comedy']        5410   \n",
       "1225   ['Adventure', 'Comedy', 'Science Fiction', 'Fa...        6239   \n",
       "22839                                ['Comedy', 'Drama']        4644   \n",
       "22129                       ['Crime', 'Drama', 'Comedy']        6768   \n",
       "30311         ['Drama', 'Comedy', 'Animation', 'Family']        6737   \n",
       "40876            ['Comedy', 'Drama', 'Music', 'Romance']        4745   \n",
       "732                           ['Drama', 'Comedy', 'War']        1472   \n",
       "\n",
       "       vote_average  popularity  weighted_rating  \n",
       "10309           9.1   34.457024         8.605916  \n",
       "2211            8.3   39.394970         8.222252  \n",
       "351             8.2   48.307194         8.166014  \n",
       "18465           8.2   16.086919         8.149172  \n",
       "1225            8.0   25.778509         7.959364  \n",
       "22839           8.0   14.442048         7.945739  \n",
       "22129           7.9   16.382422         7.864130  \n",
       "30311           7.9   23.985587         7.863968  \n",
       "40876           7.9   19.681686         7.849193  \n",
       "732             8.0    9.803980         7.837147  "
      ]
     },
     "execution_count": 7,
     "metadata": {},
     "output_type": "execute_result"
    }
   ],
   "source": [
    "build_chart('Comedy').head(10)"
   ]
  },
  {
   "cell_type": "markdown",
   "metadata": {
    "_cell_guid": "b14398c0-cf96-42ec-a12e-84d98231512a",
    "_uuid": "8ffeb5a436b6df369c408c20ba2d6d2b6bfee61b"
   },
   "source": [
    "This chart provides data on the top comedy movies above the **85th** percentile."
   ]
  },
  {
   "cell_type": "markdown",
   "metadata": {
    "_cell_guid": "b6e1eb8b-6109-40ff-ab8a-37bd047c03ac",
    "_uuid": "0b0f95bdf966d06c2d7053535d46183b03a75cc1"
   },
   "source": [
    "## 2. Content Based Recommender\n",
    "\n",
    "Although the simple recommender is useful for finding the most popular movies, it is not personalized to specific users. A better way to cater to a user's tastes is by considering more specific info about the movie. There may be a pattern in more specific information about the movies that the user likes, such as the director and the cast. By computing the similarity scores between a movie that the user is known to like and a potential movie recommendation, the system can determine whether it will be a good fit for the user.\n",
    "\n",
    "Here are two implementations of a content-based recommender. The first uses the film's **synopsis and tagline**, a short slogan for the movie's content. The second implementation uses the **director, cast, and keywords** associated with the movie."
   ]
  },
  {
   "cell_type": "code",
   "execution_count": 8,
   "metadata": {
    "_cell_guid": "bd5f4440-f90d-46a4-8640-204541d99d40",
    "_uuid": "dc237e14c8346bdd51624d21b6b082399afd3062",
    "jupyter": {
     "outputs_hidden": true
    }
   },
   "outputs": [
    {
     "data": {
      "text/plain": [
       "(9082, 3)"
      ]
     },
     "execution_count": 8,
     "metadata": {},
     "output_type": "execute_result"
    }
   ],
   "source": [
    "try:  #small_movies_data\n",
    "    smd = pd.read_csv('/Users/awikasaeng/Downloads/Movie-Recommender-Systems-main/input/movies-data/description.csv')\n",
    "except FileNotFoundError:\n",
    "    md = pd.read_csv('/Users/awikasaeng/Downloads/Movie-Recommender-Systems-main/input/the-movies-dataset/movies_metadata.csv',\n",
    "                     skiprows=[19731, 29504, 35588],  #skip error data\n",
    "                     dtype={'id': int},\n",
    "                     usecols=['title', 'id', 'overview', 'tagline'])\n",
    "    links_small = pd.read_csv('/Users/awikasaeng/Downloads/Movie-Recommender-Systems-main/input/the-movies-dataset/links_small.csv')['tmdbId']\n",
    "    links_small = links_small.dropna().astype(int)\n",
    "    smd = md[md['id'].isin(links_small)].copy()\n",
    "    smd['description'] = smd['overview'].fillna('') + ' ' + smd['tagline'].fillna('')\n",
    "    smd = smd[['id', 'title', 'description']].drop_duplicates()\n",
    "    smd.to_csv('/Users/awikasaeng/Downloads/Movie-Recommender-Systems-main/input/movies-data/description.csv', index=False)\n",
    "    smd = smd.reset_index(drop=True)\n",
    "\n",
    "smd.shape"
   ]
  },
  {
   "cell_type": "markdown",
   "metadata": {
    "_cell_guid": "0f9e6043-68e8-4b0c-a435-e456e19e9144",
    "_uuid": "1ebd72fcc46ac2ac20016ff34dad40a9f8879ac9"
   },
   "source": [
    "This recommender uses a subset of 9,082 movies from the full dataset of 58,000."
   ]
  },
  {
   "cell_type": "markdown",
   "metadata": {
    "_cell_guid": "1e73645a-0b0b-441f-93b4-ce92069e1852",
    "_uuid": "c41800b7a9d8b8d48ba1c22b8430929f54e9884e"
   },
   "source": [
    "### 2a. Movie Description Based Recommender\n"
   ]
  },
  {
   "cell_type": "code",
   "execution_count": 9,
   "metadata": {
    "_cell_guid": "c880adf9-051b-40cd-8e95-cd8c4acabb17",
    "_uuid": "453bdc941ba5a1e86e17b0f106dc44040c0defdf",
    "jupyter": {
     "outputs_hidden": true
    }
   },
   "outputs": [],
   "source": [
    "from sklearn.feature_extraction.text import TfidfVectorizer, CountVectorizer\n",
    "smd['description'] = smd['description'].fillna('')\n",
    "tf = TfidfVectorizer(ngram_range=(1, 2), min_df=0, stop_words='english')"
   ]
  },
  {
   "cell_type": "markdown",
   "metadata": {
    "pycharm": {
     "name": "#%% md\n"
    }
   },
   "source": [
    "A matrix of the TF-IDF scores for each movie is needed for this recommender."
   ]
  },
  {
   "cell_type": "code",
   "execution_count": 10,
   "metadata": {
    "pycharm": {
     "name": "#%%\n"
    }
   },
   "outputs": [
    {
     "data": {
      "text/plain": [
       "(9082, 267952)"
      ]
     },
     "execution_count": 10,
     "metadata": {},
     "output_type": "execute_result"
    }
   ],
   "source": [
    "tfidf_matrix = tf.fit_transform(smd['description'])\n",
    "tfidf_matrix.shape"
   ]
  },
  {
   "cell_type": "markdown",
   "metadata": {
    "_cell_guid": "7d4db389-9f30-46e9-b8af-69fe9b40ada5",
    "_uuid": "1a98e05af67de3475999e1891d965ce9f73ce316"
   },
   "source": [
    "#### Cosine Similarity\n",
    "\n",
    "Now that we have a representation of the movie descriptions in terms of normalized TF-IDF vectors, we can apply the cosine similarity score using these vecotrs.\n",
    "\n",
    "$cosine(x,y) = \\frac{x. y^\\intercal}{||x||.||y||} $"
   ]
  },
  {
   "cell_type": "code",
   "execution_count": 11,
   "metadata": {
    "_cell_guid": "8b27b34f-a585-42bf-b35f-1de4e9181fce",
    "_uuid": "e324c0e951287359f7810a3da85631ebc7725c53",
    "jupyter": {
     "outputs_hidden": true
    }
   },
   "outputs": [
    {
     "data": {
      "text/plain": [
       "array([[1.        , 0.00680302, 0.        , ..., 0.        , 0.        ,\n",
       "        0.00477808],\n",
       "       [0.00680302, 1.        , 0.01530688, ..., 0.        , 0.00175214,\n",
       "        0.00367921],\n",
       "       [0.        , 0.01530688, 1.        , ..., 0.00192587, 0.00221235,\n",
       "        0.        ],\n",
       "       ...,\n",
       "       [0.        , 0.        , 0.00192587, ..., 1.        , 0.        ,\n",
       "        0.        ],\n",
       "       [0.        , 0.00175214, 0.00221235, ..., 0.        , 1.        ,\n",
       "        0.00146392],\n",
       "       [0.00477808, 0.00367921, 0.        , ..., 0.        , 0.00146392,\n",
       "        1.        ]])"
      ]
     },
     "execution_count": 11,
     "metadata": {},
     "output_type": "execute_result"
    }
   ],
   "source": [
    "from sklearn.metrics.pairwise import linear_kernel, cosine_similarity\n",
    "cosine_sim = linear_kernel(tfidf_matrix)\n",
    "cosine_sim"
   ]
  },
  {
   "cell_type": "markdown",
   "metadata": {
    "_cell_guid": "f4001114-a1c6-4762-b0cf-64eb4f2658ac",
    "_uuid": "b7a65051edc24edfe6e2afaf3a9c3a148af5bcaf"
   },
   "source": [
    "Using a library from sklearn, we can create a pairwise cosine similarity matrix that can serve as an easy lookup table when we want to find the similarity score between two movies."
   ]
  },
  {
   "cell_type": "code",
   "execution_count": 12,
   "metadata": {
    "_cell_guid": "d7352ae7-fbc3-4459-b257-76a44000ce6a",
    "_uuid": "62f49212a8b935ef63a3643e1bb6f629521f05b7",
    "jupyter": {
     "outputs_hidden": true
    }
   },
   "outputs": [],
   "source": [
    "def recommend(title):\n",
    "    movie = smd[smd['title'] == title]\n",
    "    if len(movie) > 1:\n",
    "        print(\"There are duplications of same name. Choose index and use get_recommendations(idx)\")\n",
    "        print(movie)\n",
    "    else:\n",
    "        indexes = get_recommendations(movie.index[0])\n",
    "        recommend_movies = smd.iloc[indexes]\n",
    "        return recommend_movies[1:].set_index('id')\n",
    "\n",
    "\n",
    "def get_recommendations(idx):\n",
    "    # return movies index which similarity score bigger than 0.01\n",
    "    sim_scores = list(enumerate(cosine_sim[idx]))\n",
    "    sim_scores = sorted(sim_scores, key=lambda x: x[1], reverse=True)\n",
    "    return [i[0] for i in sim_scores if i[1] > 0.01]"
   ]
  },
  {
   "cell_type": "markdown",
   "metadata": {
    "_cell_guid": "e8c1e16a-a1ab-4cae-916b-dcdc2ebaf9a9",
    "_uuid": "8960b80c95e09e6b4e328872efebd2e4ee711df2"
   },
   "source": [
    "With these functions, we can pass a title to them and get recommendations for movies similar to that film."
   ]
  },
  {
   "cell_type": "code",
   "execution_count": 13,
   "metadata": {
    "_cell_guid": "73bb1266-5797-47ce-b61f-fa9e0d7ce077",
    "_uuid": "46f418fd12b35e86a7a2026ef1975be822cadde3"
   },
   "outputs": [
    {
     "data": {
      "text/html": [
       "<div>\n",
       "<style scoped>\n",
       "    .dataframe tbody tr th:only-of-type {\n",
       "        vertical-align: middle;\n",
       "    }\n",
       "\n",
       "    .dataframe tbody tr th {\n",
       "        vertical-align: top;\n",
       "    }\n",
       "\n",
       "    .dataframe thead th {\n",
       "        text-align: right;\n",
       "    }\n",
       "</style>\n",
       "<table border=\"1\" class=\"dataframe\">\n",
       "  <thead>\n",
       "    <tr style=\"text-align: right;\">\n",
       "      <th></th>\n",
       "      <th>title</th>\n",
       "      <th>description</th>\n",
       "    </tr>\n",
       "    <tr>\n",
       "      <th>id</th>\n",
       "      <th></th>\n",
       "      <th></th>\n",
       "    </tr>\n",
       "  </thead>\n",
       "  <tbody>\n",
       "    <tr>\n",
       "      <th>10990</th>\n",
       "      <td>Mulholland Falls</td>\n",
       "      <td>In 1950s Los Angeles, a special crime squad of...</td>\n",
       "    </tr>\n",
       "    <tr>\n",
       "      <th>10061</th>\n",
       "      <td>Escape from L.A.</td>\n",
       "      <td>This time, a cataclysmic temblor hits Los Ange...</td>\n",
       "    </tr>\n",
       "    <tr>\n",
       "      <th>9491</th>\n",
       "      <td>Blue Steel</td>\n",
       "      <td>A female rookie in the police force engages in...</td>\n",
       "    </tr>\n",
       "    <tr>\n",
       "      <th>32042</th>\n",
       "      <td>Night Moves</td>\n",
       "      <td>When Los Angeles private detective, Harry Mose...</td>\n",
       "    </tr>\n",
       "    <tr>\n",
       "      <th>43089</th>\n",
       "      <td>Roadgames</td>\n",
       "      <td>A truck driver plays a cat-and-mouse game with...</td>\n",
       "    </tr>\n",
       "    <tr>\n",
       "      <th>5236</th>\n",
       "      <td>Kiss Kiss Bang Bang</td>\n",
       "      <td>A petty thief posing as an actor is brought to...</td>\n",
       "    </tr>\n",
       "    <tr>\n",
       "      <th>86241</th>\n",
       "      <td>Welcome to L.A.</td>\n",
       "      <td>The lives and romantic entanglements of a grou...</td>\n",
       "    </tr>\n",
       "    <tr>\n",
       "      <th>171274</th>\n",
       "      <td>Inherent Vice</td>\n",
       "      <td>In Los Angeles at the turn of the 1970s, drug-...</td>\n",
       "    </tr>\n",
       "    <tr>\n",
       "      <th>10357</th>\n",
       "      <td>Volcano</td>\n",
       "      <td>An earthquake shatters a peaceful Los Angeles ...</td>\n",
       "    </tr>\n",
       "    <tr>\n",
       "      <th>14373</th>\n",
       "      <td>Death Wish 2</td>\n",
       "      <td>Paul Kersey is again a vigilante trying to fin...</td>\n",
       "    </tr>\n",
       "    <tr>\n",
       "      <th>1669</th>\n",
       "      <td>The Hunt for Red October</td>\n",
       "      <td>A new Soviet nuclear missile sub (a Boomer) he...</td>\n",
       "    </tr>\n",
       "    <tr>\n",
       "      <th>310133</th>\n",
       "      <td>Cop Car</td>\n",
       "      <td>Two kids find themselves in the centre of a de...</td>\n",
       "    </tr>\n",
       "    <tr>\n",
       "      <th>17332</th>\n",
       "      <td>The Soloist</td>\n",
       "      <td>A Los Angeles journalist befriends a homeless ...</td>\n",
       "    </tr>\n",
       "    <tr>\n",
       "      <th>11454</th>\n",
       "      <td>Manhunter</td>\n",
       "      <td>FBI Agent Will Graham, who retired after catch...</td>\n",
       "    </tr>\n",
       "    <tr>\n",
       "      <th>26174</th>\n",
       "      <td>T-Men</td>\n",
       "      <td>Two U.S. Treasury (\"T-men\") agents go undercov...</td>\n",
       "    </tr>\n",
       "  </tbody>\n",
       "</table>\n",
       "</div>"
      ],
      "text/plain": [
       "                           title  \\\n",
       "id                                 \n",
       "10990           Mulholland Falls   \n",
       "10061           Escape from L.A.   \n",
       "9491                  Blue Steel   \n",
       "32042                Night Moves   \n",
       "43089                  Roadgames   \n",
       "5236         Kiss Kiss Bang Bang   \n",
       "86241            Welcome to L.A.   \n",
       "171274             Inherent Vice   \n",
       "10357                    Volcano   \n",
       "14373               Death Wish 2   \n",
       "1669    The Hunt for Red October   \n",
       "310133                   Cop Car   \n",
       "17332                The Soloist   \n",
       "11454                  Manhunter   \n",
       "26174                      T-Men   \n",
       "\n",
       "                                              description  \n",
       "id                                                         \n",
       "10990   In 1950s Los Angeles, a special crime squad of...  \n",
       "10061   This time, a cataclysmic temblor hits Los Ange...  \n",
       "9491    A female rookie in the police force engages in...  \n",
       "32042   When Los Angeles private detective, Harry Mose...  \n",
       "43089   A truck driver plays a cat-and-mouse game with...  \n",
       "5236    A petty thief posing as an actor is brought to...  \n",
       "86241   The lives and romantic entanglements of a grou...  \n",
       "171274  In Los Angeles at the turn of the 1970s, drug-...  \n",
       "10357   An earthquake shatters a peaceful Los Angeles ...  \n",
       "14373   Paul Kersey is again a vigilante trying to fin...  \n",
       "1669    A new Soviet nuclear missile sub (a Boomer) he...  \n",
       "310133  Two kids find themselves in the centre of a de...  \n",
       "17332   A Los Angeles journalist befriends a homeless ...  \n",
       "11454   FBI Agent Will Graham, who retired after catch...  \n",
       "26174   Two U.S. Treasury (\"T-men\") agents go undercov...  "
      ]
     },
     "execution_count": 13,
     "metadata": {},
     "output_type": "execute_result"
    }
   ],
   "source": [
    "recommend('Heat').head(15)"
   ]
  },
  {
   "cell_type": "code",
   "execution_count": 14,
   "metadata": {
    "_cell_guid": "d074112e-79ea-4188-a1e0-addd9bed3c91",
    "_uuid": "f92e310b0225b4a1b8b46e8a87fe2f2b82c158ed"
   },
   "outputs": [
    {
     "data": {
      "text/html": [
       "<div>\n",
       "<style scoped>\n",
       "    .dataframe tbody tr th:only-of-type {\n",
       "        vertical-align: middle;\n",
       "    }\n",
       "\n",
       "    .dataframe tbody tr th {\n",
       "        vertical-align: top;\n",
       "    }\n",
       "\n",
       "    .dataframe thead th {\n",
       "        text-align: right;\n",
       "    }\n",
       "</style>\n",
       "<table border=\"1\" class=\"dataframe\">\n",
       "  <thead>\n",
       "    <tr style=\"text-align: right;\">\n",
       "      <th></th>\n",
       "      <th>title</th>\n",
       "      <th>description</th>\n",
       "    </tr>\n",
       "    <tr>\n",
       "      <th>id</th>\n",
       "      <th></th>\n",
       "      <th></th>\n",
       "    </tr>\n",
       "  </thead>\n",
       "  <tbody>\n",
       "    <tr>\n",
       "      <th>14919</th>\n",
       "      <td>Batman: Mask of the Phantasm</td>\n",
       "      <td>An old flame of Bruce Wayne's strolls into tow...</td>\n",
       "    </tr>\n",
       "    <tr>\n",
       "      <th>123025</th>\n",
       "      <td>Batman: The Dark Knight Returns, Part 1</td>\n",
       "      <td>Batman has not been seen for ten years. A new ...</td>\n",
       "    </tr>\n",
       "    <tr>\n",
       "      <th>414</th>\n",
       "      <td>Batman Forever</td>\n",
       "      <td>The Dark Knight of Gotham City confronts a das...</td>\n",
       "    </tr>\n",
       "    <tr>\n",
       "      <th>69735</th>\n",
       "      <td>Batman: Year One</td>\n",
       "      <td>Two men come to Gotham City: Bruce Wayne after...</td>\n",
       "    </tr>\n",
       "    <tr>\n",
       "      <th>268</th>\n",
       "      <td>Batman</td>\n",
       "      <td>The Dark Knight of Gotham City begins his war ...</td>\n",
       "    </tr>\n",
       "    <tr>\n",
       "      <th>40662</th>\n",
       "      <td>Batman: Under the Red Hood</td>\n",
       "      <td>Batman faces his ultimate challenge as the mys...</td>\n",
       "    </tr>\n",
       "    <tr>\n",
       "      <th>49026</th>\n",
       "      <td>The Dark Knight Rises</td>\n",
       "      <td>Following the death of District Attorney Harve...</td>\n",
       "    </tr>\n",
       "    <tr>\n",
       "      <th>364</th>\n",
       "      <td>Batman Returns</td>\n",
       "      <td>Having defeated the Joker, Batman now faces th...</td>\n",
       "    </tr>\n",
       "    <tr>\n",
       "      <th>142061</th>\n",
       "      <td>Batman: The Dark Knight Returns, Part 2</td>\n",
       "      <td>Batman has stopped the reign of terror that Th...</td>\n",
       "    </tr>\n",
       "    <tr>\n",
       "      <th>155</th>\n",
       "      <td>The Dark Knight</td>\n",
       "      <td>Batman raises the stakes in his war on crime. ...</td>\n",
       "    </tr>\n",
       "  </tbody>\n",
       "</table>\n",
       "</div>"
      ],
      "text/plain": [
       "                                          title  \\\n",
       "id                                                \n",
       "14919              Batman: Mask of the Phantasm   \n",
       "123025  Batman: The Dark Knight Returns, Part 1   \n",
       "414                              Batman Forever   \n",
       "69735                          Batman: Year One   \n",
       "268                                      Batman   \n",
       "40662                Batman: Under the Red Hood   \n",
       "49026                     The Dark Knight Rises   \n",
       "364                              Batman Returns   \n",
       "142061  Batman: The Dark Knight Returns, Part 2   \n",
       "155                             The Dark Knight   \n",
       "\n",
       "                                              description  \n",
       "id                                                         \n",
       "14919   An old flame of Bruce Wayne's strolls into tow...  \n",
       "123025  Batman has not been seen for ten years. A new ...  \n",
       "414     The Dark Knight of Gotham City confronts a das...  \n",
       "69735   Two men come to Gotham City: Bruce Wayne after...  \n",
       "268     The Dark Knight of Gotham City begins his war ...  \n",
       "40662   Batman faces his ultimate challenge as the mys...  \n",
       "49026   Following the death of District Attorney Harve...  \n",
       "364     Having defeated the Joker, Batman now faces th...  \n",
       "142061  Batman has stopped the reign of terror that Th...  \n",
       "155     Batman raises the stakes in his war on crime. ...  "
      ]
     },
     "execution_count": 14,
     "metadata": {},
     "output_type": "execute_result"
    }
   ],
   "source": [
    "recommend('Batman Begins').head(10)"
   ]
  },
  {
   "cell_type": "markdown",
   "metadata": {
    "_cell_guid": "a9fd334d-e890-4125-9d48-b79babd194d2",
    "_uuid": "f38218c5d4f07d6d9439adbab468c51430157103"
   },
   "source": [
    "For **Heat**, a classic crime drama film, the recommender provides a table of other crime films as expected.\n",
    "\n",
    "For **Batman Begins**, the recommender has identified other Batman films. This shows that the recommender may not be useful for films in a specific franchise, since a Batman movie fan would likely have already watched the rest of these. This recommender also does not take into account more significant factors in a movie's popularity, such as the director. After all, a film is not automatically good just because it is part of a popular series. Even if two movies have similar premises, they can turn out vastly different depending on the human factor."
   ]
  },
  {
   "cell_type": "markdown",
   "metadata": {
    "_cell_guid": "3a0dd8ba-a580-4c12-95eb-ca04e2191b35",
    "_uuid": "4089c7bcdf984e596e80d2fc6c2a74fe8c05a41f"
   },
   "source": [
    "### 2b. Metadata Based Recommender\n",
    "\n",
    "This recommender takes a different approach to the metrics needed for a content-based recommender, using the movie's genre and keywords in addition to the cast and director to make recommendations."
   ]
  },
  {
   "cell_type": "code",
   "execution_count": 15,
   "metadata": {
    "_cell_guid": "85d2d5e0-165a-4ad5-860d-be1d1aa20c59",
    "_uuid": "aa399813ff512b0d7671e9bfcebf7f41ee139275",
    "jupyter": {
     "outputs_hidden": true
    }
   },
   "outputs": [],
   "source": [
    "try:\n",
    "    credits = pd.read_csv('/Users/awikasaeng/Downloads/Movie-Recommender-Systems-main/input/movies-data/credits_small.csv')\n",
    "except FileNotFoundError:\n",
    "    credits = pd.read_csv('/Users/awikasaeng/Downloads/Movie-Recommender-Systems-main/input/the-movies-dataset/credits.csv')\n",
    "    links_small = pd.read_csv('/Users/awikasaeng/Downloads/Movie-Recommender-Systems-main/input/the-movies-dataset/links_small.csv')['tmdbId']\n",
    "    links_small = links_small.dropna().astype(int)\n",
    "    credits = credits[credits['id'].isin(links_small)]\n",
    "\n",
    "\n",
    "    def get_director(x):\n",
    "        for i in literal_eval(x):\n",
    "            if i['job'] == 'Director':\n",
    "                return i['name']\n",
    "        return ''\n",
    "\n",
    "\n",
    "    credits['crew'] = credits['crew'].apply(get_director)\n",
    "    credits = credits.rename(columns={'crew': 'director'})\n",
    "    credits['cast'] = credits['cast'].apply(lambda x: [i['name'] for i in literal_eval(x)[:3]])\n",
    "    credits = credits.astype(str).drop_duplicates()\n",
    "\n",
    "    keywords = pd.read_csv('/Users/awikasaeng/Downloads/Movie-Recommender-Systems-main/input/the-movies-dataset/keywords.csv')\n",
    "    keywords = keywords[keywords['id'].isin(links_small)].drop_duplicates()\n",
    "    keywords['keywords'] = keywords['keywords'].apply(lambda x: [i['name'] for i in literal_eval(x)])\n",
    "\n",
    "    credits = keywords.astype(str).merge(credits)\n",
    "    credits.to_csv('/Users/awikasaeng/Downloads/Movie-Recommender-Systems-main/input/movies-data/credits_small.csv', index=False)"
   ]
  },
  {
   "cell_type": "markdown",
   "metadata": {
    "_cell_guid": "5932e964-9f33-4cac-b90c-d6a116c8c463",
    "_uuid": "8e2c893fd842164c99b1be3f84f11fac3adab387"
   },
   "source": [
    "Only the director and the top 3 actors in the cast will be used as factors to simplify computing recommendations.\n"
   ]
  },
  {
   "cell_type": "code",
   "execution_count": 16,
   "metadata": {
    "_cell_guid": "0e19fe24-e206-4743-a96c-fb828707c74d",
    "_uuid": "4207baed79a12ab3314fc816076bbff032d3e186",
    "jupyter": {
     "outputs_hidden": true
    }
   },
   "outputs": [
    {
     "data": {
      "text/html": [
       "<div>\n",
       "<style scoped>\n",
       "    .dataframe tbody tr th:only-of-type {\n",
       "        vertical-align: middle;\n",
       "    }\n",
       "\n",
       "    .dataframe tbody tr th {\n",
       "        vertical-align: top;\n",
       "    }\n",
       "\n",
       "    .dataframe thead th {\n",
       "        text-align: right;\n",
       "    }\n",
       "</style>\n",
       "<table border=\"1\" class=\"dataframe\">\n",
       "  <thead>\n",
       "    <tr style=\"text-align: right;\">\n",
       "      <th></th>\n",
       "      <th>id</th>\n",
       "      <th>keywords</th>\n",
       "      <th>cast</th>\n",
       "      <th>director</th>\n",
       "    </tr>\n",
       "  </thead>\n",
       "  <tbody>\n",
       "    <tr>\n",
       "      <th>0</th>\n",
       "      <td>862</td>\n",
       "      <td>[jealousy, toy, boy, friendship, friends, riva...</td>\n",
       "      <td>[Tom Hanks, Tim Allen, Don Rickles]</td>\n",
       "      <td>John Lasseter</td>\n",
       "    </tr>\n",
       "    <tr>\n",
       "      <th>1</th>\n",
       "      <td>8844</td>\n",
       "      <td>[board game, disappearance, based on children'...</td>\n",
       "      <td>[Robin Williams, Jonathan Hyde, Kirsten Dunst]</td>\n",
       "      <td>Joe Johnston</td>\n",
       "    </tr>\n",
       "    <tr>\n",
       "      <th>2</th>\n",
       "      <td>15602</td>\n",
       "      <td>[fishing, best friend, duringcreditsstinger, o...</td>\n",
       "      <td>[Walter Matthau, Jack Lemmon, Ann-Margret]</td>\n",
       "      <td>Howard Deutch</td>\n",
       "    </tr>\n",
       "    <tr>\n",
       "      <th>3</th>\n",
       "      <td>31357</td>\n",
       "      <td>[based on novel, interracial relationship, sin...</td>\n",
       "      <td>[Whitney Houston, Angela Bassett, Loretta Devine]</td>\n",
       "      <td>Forest Whitaker</td>\n",
       "    </tr>\n",
       "    <tr>\n",
       "      <th>4</th>\n",
       "      <td>11862</td>\n",
       "      <td>[baby, midlife crisis, confidence, aging, daug...</td>\n",
       "      <td>[Steve Martin, Diane Keaton, Martin Short]</td>\n",
       "      <td>Charles Shyer</td>\n",
       "    </tr>\n",
       "  </tbody>\n",
       "</table>\n",
       "</div>"
      ],
      "text/plain": [
       "      id                                           keywords  \\\n",
       "0    862  [jealousy, toy, boy, friendship, friends, riva...   \n",
       "1   8844  [board game, disappearance, based on children'...   \n",
       "2  15602  [fishing, best friend, duringcreditsstinger, o...   \n",
       "3  31357  [based on novel, interracial relationship, sin...   \n",
       "4  11862  [baby, midlife crisis, confidence, aging, daug...   \n",
       "\n",
       "                                                cast         director  \n",
       "0                [Tom Hanks, Tim Allen, Don Rickles]    John Lasseter  \n",
       "1     [Robin Williams, Jonathan Hyde, Kirsten Dunst]     Joe Johnston  \n",
       "2         [Walter Matthau, Jack Lemmon, Ann-Margret]    Howard Deutch  \n",
       "3  [Whitney Houston, Angela Bassett, Loretta Devine]  Forest Whitaker  \n",
       "4         [Steve Martin, Diane Keaton, Martin Short]    Charles Shyer  "
      ]
     },
     "execution_count": 16,
     "metadata": {},
     "output_type": "execute_result"
    }
   ],
   "source": [
    "credits[['cast', 'keywords']] = credits[['cast', 'keywords']].applymap(literal_eval)\n",
    "credits.head()"
   ]
  },
  {
   "cell_type": "markdown",
   "metadata": {
    "_cell_guid": "9f2cbd6e-3729-4316-bb4a-1bcd092f19ff",
    "_uuid": "ac9eb7bb4b74983b9c649013b7cdc6ebbb78af23"
   },
   "source": [
    "Now we have the movies filtered to only their keywords, the top 3 actors in their cast, and the director. A pairwise similarity matrix will be created as was done in the description-based recommender, and the system will provide recommendations according to the similarity scores."
   ]
  },
  {
   "cell_type": "code",
   "execution_count": 17,
   "metadata": {
    "_cell_guid": "6c5ffd70-ef6b-4fd0-be3d-b3c6a0d72df0",
    "_uuid": "01d86674d50b903fedc79750c4031ca88a739449",
    "jupyter": {
     "outputs_hidden": true
    }
   },
   "outputs": [],
   "source": [
    "# process actor names to make sure they are distinct from each other\n",
    "strip = lambda x: str(x).replace(\" \", \"\").lower()\n",
    "cast = credits['cast'].apply(lambda x: [strip(i) for i in x])\n",
    "# give director a greater weight as a recommendation factor\n",
    "director = credits['director'].apply(lambda x: [strip(x)] * 3)"
   ]
  },
  {
   "cell_type": "markdown",
   "metadata": {
    "_cell_guid": "5ea1aabb-a885-4dfe-a85e-0e31fd76558f",
    "_uuid": "feac137ab3987ade6ae3b041c6cbec3bf4364e66"
   },
   "source": [
    "#### Keywords\n",
    "\n",
    "The keywords will need some pre-processing as well."
   ]
  },
  {
   "cell_type": "code",
   "execution_count": 18,
   "metadata": {
    "_cell_guid": "3dc8f545-4666-4cc0-8473-2870a69e7ff0",
    "_uuid": "5740d11531f7305f4edf13b0270dc014382a2b5c",
    "jupyter": {
     "outputs_hidden": true
    }
   },
   "outputs": [
    {
     "data": {
      "text/plain": [
       "independent film        603\n",
       "woman director          541\n",
       "murder                  397\n",
       "duringcreditsstinger    327\n",
       "based on novel          309\n",
       "dtype: int64"
      ]
     },
     "execution_count": 18,
     "metadata": {},
     "output_type": "execute_result"
    }
   ],
   "source": [
    "s = pd.DataFrame(np.concatenate(credits['keywords'])).value_counts()\n",
    "s[:5]"
   ]
  },
  {
   "cell_type": "markdown",
   "metadata": {
    "_cell_guid": "4277aa18-dc91-4836-9853-2c94624cc70d",
    "_uuid": "0ac999648a3085a98948ccf9ada187a9bb08eba3"
   },
   "source": [
    "The most common keyword appears 603 times. Any keywords that appear only once will not be useful for the similarity matrix, so those will be dropped."
   ]
  },
  {
   "cell_type": "code",
   "execution_count": 19,
   "metadata": {
    "_cell_guid": "8cabd79b-dfab-46d8-922d-e204173d8103",
    "_uuid": "bf05fb571b1ee60335af20acb9cf5d7fee6254e8",
    "jupyter": {
     "outputs_hidden": true
    }
   },
   "outputs": [],
   "source": [
    "# drop keywords that appear only once\n",
    "s = s[s > 1]\n",
    "\n",
    "from nltk.stem.snowball import SnowballStemmer\n",
    "\n",
    "stem = SnowballStemmer('english').stem\n",
    "\n",
    "# stemming keywords to simplify index\n",
    "def filter_keywords(x):\n",
    "    words = []\n",
    "    for i in x:\n",
    "        if i in s:\n",
    "            for a in i.split():\n",
    "                words.append(stem(a))\n",
    "    return words"
   ]
  },
  {
   "cell_type": "code",
   "execution_count": 20,
   "metadata": {
    "_cell_guid": "959063e5-841d-408a-a10e-1f1437756b7c",
    "_uuid": "2a939eb8846871c606da0f654a1a9a978270e99f",
    "jupyter": {
     "outputs_hidden": true
    }
   },
   "outputs": [
    {
     "data": {
      "text/plain": [
       "0    jealousi toy boy friendship friend rivalri boy...\n",
       "1    board game disappear base on children book new...\n",
       "2    fish best friend duringcreditssting waltermatt...\n",
       "3    base on novel interraci relationship singl mot...\n",
       "4    babi midlif crisi confid age daughter mother d...\n",
       "dtype: object"
      ]
     },
     "execution_count": 20,
     "metadata": {},
     "output_type": "execute_result"
    }
   ],
   "source": [
    "keywords = credits['keywords'].apply(filter_keywords)\n",
    "md = pd.read_csv('/Users/awikasaeng/Downloads/Movie-Recommender-Systems-main/input/movies-data/metadata_small.csv', dtype=\n",
    "{'id': int}, usecols=['id', 'genres'])\n",
    "genres = credits.merge(md)[['id', 'genres']].drop_duplicates()\n",
    "genres = genres['genres'].reset_index(drop=True).apply(literal_eval)\n",
    "soup = keywords + cast + director + genres\n",
    "soup = soup.apply(lambda x: ' '.join(x))\n",
    "soup.head()"
   ]
  },
  {
   "cell_type": "code",
   "execution_count": 21,
   "metadata": {
    "_cell_guid": "7f9aa1bc-351b-47a1-b909-0d87efe93adc",
    "_uuid": "c758030ce02bb4beed606e41a3e0a51b659768f0",
    "jupyter": {
     "outputs_hidden": true
    }
   },
   "outputs": [],
   "source": [
    "count = CountVectorizer(ngram_range=(1, 2), min_df=0, stop_words='english')\n",
    "count_matrix = count.fit_transform(soup)\n",
    "\n",
    "cosine_sim = cosine_similarity(count_matrix)"
   ]
  },
  {
   "cell_type": "markdown",
   "metadata": {
    "_cell_guid": "7f7ae1dc-41c0-4cd7-af41-74e6075b0d90",
    "_uuid": "37e2da9e51efab9951e6061f677c5ffcad230782"
   },
   "source": [
    "Now that we have a different cosine similarity matrix, we can run get_recommendations again and get a different set of movies. The system recommends other movies directed by Michael Mann when it looks for movies similar to **Heat**."
   ]
  },
  {
   "cell_type": "code",
   "execution_count": 22,
   "metadata": {
    "_cell_guid": "e755e943-495b-46df-983b-2f8ad80fcd6a",
    "_uuid": "f6e2b6b232e992c783150a0ac5a7038c6de6db37"
   },
   "outputs": [
    {
     "data": {
      "text/html": [
       "<div>\n",
       "<style scoped>\n",
       "    .dataframe tbody tr th:only-of-type {\n",
       "        vertical-align: middle;\n",
       "    }\n",
       "\n",
       "    .dataframe tbody tr th {\n",
       "        vertical-align: top;\n",
       "    }\n",
       "\n",
       "    .dataframe thead th {\n",
       "        text-align: right;\n",
       "    }\n",
       "</style>\n",
       "<table border=\"1\" class=\"dataframe\">\n",
       "  <thead>\n",
       "    <tr style=\"text-align: right;\">\n",
       "      <th></th>\n",
       "      <th>title</th>\n",
       "      <th>description</th>\n",
       "    </tr>\n",
       "    <tr>\n",
       "      <th>id</th>\n",
       "      <th></th>\n",
       "      <th></th>\n",
       "    </tr>\n",
       "  </thead>\n",
       "  <tbody>\n",
       "    <tr>\n",
       "      <th>11524</th>\n",
       "      <td>Thief</td>\n",
       "      <td>Frank is an expert professional safecracker, s...</td>\n",
       "    </tr>\n",
       "    <tr>\n",
       "      <th>82</th>\n",
       "      <td>Miami Vice</td>\n",
       "      <td>Miami Vice is a feature film based on the 1980...</td>\n",
       "    </tr>\n",
       "    <tr>\n",
       "      <th>1538</th>\n",
       "      <td>Collateral</td>\n",
       "      <td>Cab driver Max picks up a man who offers him $...</td>\n",
       "    </tr>\n",
       "    <tr>\n",
       "      <th>8489</th>\n",
       "      <td>Ali</td>\n",
       "      <td>In 1964, a brash new pro boxer, fresh from his...</td>\n",
       "    </tr>\n",
       "    <tr>\n",
       "      <th>11322</th>\n",
       "      <td>Public Enemies</td>\n",
       "      <td>Depression-era bank robber John Dillinger's ch...</td>\n",
       "    </tr>\n",
       "    <tr>\n",
       "      <th>9008</th>\n",
       "      <td>The Insider</td>\n",
       "      <td>Tells the true story of a 60 Minutes televisio...</td>\n",
       "    </tr>\n",
       "    <tr>\n",
       "      <th>9361</th>\n",
       "      <td>The Last of the Mohicans</td>\n",
       "      <td>As the English and French soldiers battle for ...</td>\n",
       "    </tr>\n",
       "    <tr>\n",
       "      <th>31640</th>\n",
       "      <td>Blood and Wine</td>\n",
       "      <td>A man who has failed as a father and husband c...</td>\n",
       "    </tr>\n",
       "    <tr>\n",
       "      <th>11454</th>\n",
       "      <td>Manhunter</td>\n",
       "      <td>FBI Agent Will Graham, who retired after catch...</td>\n",
       "    </tr>\n",
       "    <tr>\n",
       "      <th>16958</th>\n",
       "      <td>The Asphalt Jungle</td>\n",
       "      <td>Recently paroled from prison, legendary burgla...</td>\n",
       "    </tr>\n",
       "  </tbody>\n",
       "</table>\n",
       "</div>"
      ],
      "text/plain": [
       "                          title  \\\n",
       "id                                \n",
       "11524                     Thief   \n",
       "82                   Miami Vice   \n",
       "1538                 Collateral   \n",
       "8489                        Ali   \n",
       "11322            Public Enemies   \n",
       "9008                The Insider   \n",
       "9361   The Last of the Mohicans   \n",
       "31640            Blood and Wine   \n",
       "11454                 Manhunter   \n",
       "16958        The Asphalt Jungle   \n",
       "\n",
       "                                             description  \n",
       "id                                                        \n",
       "11524  Frank is an expert professional safecracker, s...  \n",
       "82     Miami Vice is a feature film based on the 1980...  \n",
       "1538   Cab driver Max picks up a man who offers him $...  \n",
       "8489   In 1964, a brash new pro boxer, fresh from his...  \n",
       "11322  Depression-era bank robber John Dillinger's ch...  \n",
       "9008   Tells the true story of a 60 Minutes televisio...  \n",
       "9361   As the English and French soldiers battle for ...  \n",
       "31640  A man who has failed as a father and husband c...  \n",
       "11454  FBI Agent Will Graham, who retired after catch...  \n",
       "16958  Recently paroled from prison, legendary burgla...  "
      ]
     },
     "execution_count": 22,
     "metadata": {},
     "output_type": "execute_result"
    }
   ],
   "source": [
    "recommend('Heat').head(10)"
   ]
  },
  {
   "cell_type": "markdown",
   "metadata": {
    "_cell_guid": "96c3a594-19de-4a38-a033-cbdd7d69aa4c",
    "_uuid": "65859bb4471fbd873df938ef77ed667cac10babc"
   },
   "source": [
    "This recommender system can be modified if the user would like to try out different weights."
   ]
  },
  {
   "cell_type": "markdown",
   "metadata": {},
   "source": [
    "If we try getting recommendations from **Gone Girl**, directed by David Fincher, we see that the list also provides other Fincher films. In fact, the first 8 films (up to Se7en) are all directed by Fincher. "
   ]
  },
  {
   "cell_type": "code",
   "execution_count": 23,
   "metadata": {
    "_cell_guid": "ef4d3551-2c66-4732-9be1-10425962d5e9",
    "_uuid": "688b323c3b96224127465e8d48e67688ba4be202"
   },
   "outputs": [
    {
     "data": {
      "text/html": [
       "<div>\n",
       "<style scoped>\n",
       "    .dataframe tbody tr th:only-of-type {\n",
       "        vertical-align: middle;\n",
       "    }\n",
       "\n",
       "    .dataframe tbody tr th {\n",
       "        vertical-align: top;\n",
       "    }\n",
       "\n",
       "    .dataframe thead th {\n",
       "        text-align: right;\n",
       "    }\n",
       "</style>\n",
       "<table border=\"1\" class=\"dataframe\">\n",
       "  <thead>\n",
       "    <tr style=\"text-align: right;\">\n",
       "      <th></th>\n",
       "      <th>title</th>\n",
       "      <th>description</th>\n",
       "    </tr>\n",
       "    <tr>\n",
       "      <th>id</th>\n",
       "      <th></th>\n",
       "      <th></th>\n",
       "    </tr>\n",
       "  </thead>\n",
       "  <tbody>\n",
       "    <tr>\n",
       "      <th>4547</th>\n",
       "      <td>Panic Room</td>\n",
       "      <td>Trapped in their New York brownstone's panic r...</td>\n",
       "    </tr>\n",
       "    <tr>\n",
       "      <th>2649</th>\n",
       "      <td>The Game</td>\n",
       "      <td>In honor of his birthday, San Francisco banker...</td>\n",
       "    </tr>\n",
       "    <tr>\n",
       "      <th>4922</th>\n",
       "      <td>The Curious Case of Benjamin Button</td>\n",
       "      <td>Tells the story of Benjamin Button, a man who ...</td>\n",
       "    </tr>\n",
       "    <tr>\n",
       "      <th>65754</th>\n",
       "      <td>The Girl with the Dragon Tattoo</td>\n",
       "      <td>This English-language adaptation of the Swedis...</td>\n",
       "    </tr>\n",
       "    <tr>\n",
       "      <th>37799</th>\n",
       "      <td>The Social Network</td>\n",
       "      <td>On a fall night in 2003, Harvard undergrad and...</td>\n",
       "    </tr>\n",
       "    <tr>\n",
       "      <th>1949</th>\n",
       "      <td>Zodiac</td>\n",
       "      <td>The true story of the investigation of 'The Zo...</td>\n",
       "    </tr>\n",
       "    <tr>\n",
       "      <th>550</th>\n",
       "      <td>Fight Club</td>\n",
       "      <td>A ticking-time-bomb insomniac and a slippery s...</td>\n",
       "    </tr>\n",
       "    <tr>\n",
       "      <th>807</th>\n",
       "      <td>Se7en</td>\n",
       "      <td>Two homicide detectives are on a desperate hun...</td>\n",
       "    </tr>\n",
       "    <tr>\n",
       "      <th>157825</th>\n",
       "      <td>White Bird in a Blizzard</td>\n",
       "      <td>Kat Connors is 17 years old when her perfect h...</td>\n",
       "    </tr>\n",
       "    <tr>\n",
       "      <th>8077</th>\n",
       "      <td>Alien³</td>\n",
       "      <td>After escaping with Newt and Hicks from the al...</td>\n",
       "    </tr>\n",
       "    <tr>\n",
       "      <th>48231</th>\n",
       "      <td>A Dangerous Method</td>\n",
       "      <td>Seduced by the challenge of an impossible case...</td>\n",
       "    </tr>\n",
       "    <tr>\n",
       "      <th>11560</th>\n",
       "      <td>High Crimes</td>\n",
       "      <td>High powered lawyer Claire Kubik finds her wor...</td>\n",
       "    </tr>\n",
       "    <tr>\n",
       "      <th>14043</th>\n",
       "      <td>Nancy Drew</td>\n",
       "      <td>Intrepid teenage private eye Nancy Drew heads ...</td>\n",
       "    </tr>\n",
       "    <tr>\n",
       "      <th>9523</th>\n",
       "      <td>Lantana</td>\n",
       "      <td>Plagued with grief over the murder of her daug...</td>\n",
       "    </tr>\n",
       "    <tr>\n",
       "      <th>3594</th>\n",
       "      <td>The Number 23</td>\n",
       "      <td>Walter Sparrow is an animal control officer th...</td>\n",
       "    </tr>\n",
       "  </tbody>\n",
       "</table>\n",
       "</div>"
      ],
      "text/plain": [
       "                                      title  \\\n",
       "id                                            \n",
       "4547                             Panic Room   \n",
       "2649                               The Game   \n",
       "4922    The Curious Case of Benjamin Button   \n",
       "65754       The Girl with the Dragon Tattoo   \n",
       "37799                    The Social Network   \n",
       "1949                                 Zodiac   \n",
       "550                              Fight Club   \n",
       "807                                   Se7en   \n",
       "157825             White Bird in a Blizzard   \n",
       "8077                                 Alien³   \n",
       "48231                    A Dangerous Method   \n",
       "11560                           High Crimes   \n",
       "14043                            Nancy Drew   \n",
       "9523                                Lantana   \n",
       "3594                          The Number 23   \n",
       "\n",
       "                                              description  \n",
       "id                                                         \n",
       "4547    Trapped in their New York brownstone's panic r...  \n",
       "2649    In honor of his birthday, San Francisco banker...  \n",
       "4922    Tells the story of Benjamin Button, a man who ...  \n",
       "65754   This English-language adaptation of the Swedis...  \n",
       "37799   On a fall night in 2003, Harvard undergrad and...  \n",
       "1949    The true story of the investigation of 'The Zo...  \n",
       "550     A ticking-time-bomb insomniac and a slippery s...  \n",
       "807     Two homicide detectives are on a desperate hun...  \n",
       "157825  Kat Connors is 17 years old when her perfect h...  \n",
       "8077    After escaping with Newt and Hicks from the al...  \n",
       "48231   Seduced by the challenge of an impossible case...  \n",
       "11560   High powered lawyer Claire Kubik finds her wor...  \n",
       "14043   Intrepid teenage private eye Nancy Drew heads ...  \n",
       "9523    Plagued with grief over the murder of her daug...  \n",
       "3594    Walter Sparrow is an animal control officer th...  "
      ]
     },
     "execution_count": 23,
     "metadata": {},
     "output_type": "execute_result"
    }
   ],
   "source": [
    "recommend('Gone Girl').head(15)"
   ]
  },
  {
   "cell_type": "markdown",
   "metadata": {
    "_cell_guid": "77c9d0d7-684c-41ab-b806-b38264b2cf3f",
    "_uuid": "536a4e8632d62d2b6a0c0d5e8b5731c39eb5529b"
   },
   "source": [
    "#### Ratings and Popularity\n",
    "\n",
    "Although the system provides similar movies tailored to the movie it was given, it does not provide average ratings for these movies. We can improve the results by using the weighted rating formula mentioned earlier."
   ]
  },
  {
   "cell_type": "code",
   "execution_count": 24,
   "metadata": {
    "_cell_guid": "1b5f0675-caa1-41bf-8a9a-ba89b0e07872",
    "_uuid": "0a7cc50433dcd13586dc1ee825b0880ad0c83869",
    "jupyter": {
     "outputs_hidden": true
    }
   },
   "outputs": [],
   "source": [
    "def improved_recommendations(title):\n",
    "    movies = recommend(title)[:25]\n",
    "    md_s = pd.read_csv('/Users/awikasaeng/Downloads/Movie-Recommender-Systems-main/input/movies-data/metadata_small.csv', dtype=\n",
    "    {'id': int, 'vote_count': int, 'vote_averages': float})\n",
    "    md_s = md_s[md_s['id'].isin(movies.index)]\n",
    "    return weighted_rating(md_s, 0.6)"
   ]
  },
  {
   "cell_type": "code",
   "execution_count": 25,
   "metadata": {
    "_cell_guid": "7f4ce0f9-ebc0-464d-a3d4-084f156d02b4",
    "_uuid": "c36a9662253e9a6bb1ae008e6cabd8dee7aaaa73"
   },
   "outputs": [
    {
     "data": {
      "text/html": [
       "<div>\n",
       "<style scoped>\n",
       "    .dataframe tbody tr th:only-of-type {\n",
       "        vertical-align: middle;\n",
       "    }\n",
       "\n",
       "    .dataframe tbody tr th {\n",
       "        vertical-align: top;\n",
       "    }\n",
       "\n",
       "    .dataframe thead th {\n",
       "        text-align: right;\n",
       "    }\n",
       "</style>\n",
       "<table border=\"1\" class=\"dataframe\">\n",
       "  <thead>\n",
       "    <tr style=\"text-align: right;\">\n",
       "      <th></th>\n",
       "      <th>id</th>\n",
       "      <th>title</th>\n",
       "      <th>release_date</th>\n",
       "      <th>genres</th>\n",
       "      <th>vote_count</th>\n",
       "      <th>vote_average</th>\n",
       "      <th>popularity</th>\n",
       "      <th>weighted_rating</th>\n",
       "    </tr>\n",
       "  </thead>\n",
       "  <tbody>\n",
       "    <tr>\n",
       "      <th>2890</th>\n",
       "      <td>9008</td>\n",
       "      <td>The Insider</td>\n",
       "      <td>1999-10-28</td>\n",
       "      <td>['Drama', 'Thriller']</td>\n",
       "      <td>489</td>\n",
       "      <td>7.3</td>\n",
       "      <td>11.356900</td>\n",
       "      <td>6.951717</td>\n",
       "    </tr>\n",
       "    <tr>\n",
       "      <th>8071</th>\n",
       "      <td>1538</td>\n",
       "      <td>Collateral</td>\n",
       "      <td>2004-08-04</td>\n",
       "      <td>['Drama', 'Crime', 'Thriller']</td>\n",
       "      <td>1476</td>\n",
       "      <td>7.0</td>\n",
       "      <td>13.455112</td>\n",
       "      <td>6.897452</td>\n",
       "    </tr>\n",
       "    <tr>\n",
       "      <th>1357</th>\n",
       "      <td>9361</td>\n",
       "      <td>The Last of the Mohicans</td>\n",
       "      <td>1992-09-25</td>\n",
       "      <td>['Action', 'Adventure', 'Drama', 'History', 'R...</td>\n",
       "      <td>747</td>\n",
       "      <td>7.1</td>\n",
       "      <td>15.228794</td>\n",
       "      <td>6.897399</td>\n",
       "    </tr>\n",
       "    <tr>\n",
       "      <th>2466</th>\n",
       "      <td>11660</td>\n",
       "      <td>Following</td>\n",
       "      <td>1998-09-12</td>\n",
       "      <td>['Crime', 'Drama', 'Thriller']</td>\n",
       "      <td>363</td>\n",
       "      <td>7.2</td>\n",
       "      <td>5.283661</td>\n",
       "      <td>6.839131</td>\n",
       "    </tr>\n",
       "    <tr>\n",
       "      <th>13042</th>\n",
       "      <td>13809</td>\n",
       "      <td>RockNRolla</td>\n",
       "      <td>2008-09-04</td>\n",
       "      <td>['Action', 'Crime', 'Thriller']</td>\n",
       "      <td>851</td>\n",
       "      <td>6.9</td>\n",
       "      <td>7.263988</td>\n",
       "      <td>6.773145</td>\n",
       "    </tr>\n",
       "    <tr>\n",
       "      <th>4879</th>\n",
       "      <td>8489</td>\n",
       "      <td>Ali</td>\n",
       "      <td>2001-12-11</td>\n",
       "      <td>['Drama']</td>\n",
       "      <td>457</td>\n",
       "      <td>6.7</td>\n",
       "      <td>9.303104</td>\n",
       "      <td>6.597778</td>\n",
       "    </tr>\n",
       "    <tr>\n",
       "      <th>13847</th>\n",
       "      <td>11322</td>\n",
       "      <td>Public Enemies</td>\n",
       "      <td>2009-07-01</td>\n",
       "      <td>['History', 'Crime', 'Drama']</td>\n",
       "      <td>1371</td>\n",
       "      <td>6.5</td>\n",
       "      <td>10.364794</td>\n",
       "      <td>6.492692</td>\n",
       "    </tr>\n",
       "    <tr>\n",
       "      <th>17342</th>\n",
       "      <td>22907</td>\n",
       "      <td>Takers</td>\n",
       "      <td>2010-08-26</td>\n",
       "      <td>['Action', 'Crime', 'Drama', 'Thriller']</td>\n",
       "      <td>399</td>\n",
       "      <td>6.1</td>\n",
       "      <td>7.000421</td>\n",
       "      <td>6.269886</td>\n",
       "    </tr>\n",
       "    <tr>\n",
       "      <th>11130</th>\n",
       "      <td>82</td>\n",
       "      <td>Miami Vice</td>\n",
       "      <td>2006-07-27</td>\n",
       "      <td>['Action', 'Adventure', 'Crime', 'Thriller']</td>\n",
       "      <td>494</td>\n",
       "      <td>5.7</td>\n",
       "      <td>11.725450</td>\n",
       "      <td>6.016400</td>\n",
       "    </tr>\n",
       "    <tr>\n",
       "      <th>25834</th>\n",
       "      <td>201088</td>\n",
       "      <td>Blackhat</td>\n",
       "      <td>2015-01-13</td>\n",
       "      <td>['Crime', 'Drama', 'Mystery']</td>\n",
       "      <td>842</td>\n",
       "      <td>5.1</td>\n",
       "      <td>14.932368</td>\n",
       "      <td>5.499856</td>\n",
       "    </tr>\n",
       "  </tbody>\n",
       "</table>\n",
       "</div>"
      ],
      "text/plain": [
       "           id                     title release_date  \\\n",
       "2890     9008               The Insider   1999-10-28   \n",
       "8071     1538                Collateral   2004-08-04   \n",
       "1357     9361  The Last of the Mohicans   1992-09-25   \n",
       "2466    11660                 Following   1998-09-12   \n",
       "13042   13809                RockNRolla   2008-09-04   \n",
       "4879     8489                       Ali   2001-12-11   \n",
       "13847   11322            Public Enemies   2009-07-01   \n",
       "17342   22907                    Takers   2010-08-26   \n",
       "11130      82                Miami Vice   2006-07-27   \n",
       "25834  201088                  Blackhat   2015-01-13   \n",
       "\n",
       "                                                  genres  vote_count  \\\n",
       "2890                               ['Drama', 'Thriller']         489   \n",
       "8071                      ['Drama', 'Crime', 'Thriller']        1476   \n",
       "1357   ['Action', 'Adventure', 'Drama', 'History', 'R...         747   \n",
       "2466                      ['Crime', 'Drama', 'Thriller']         363   \n",
       "13042                    ['Action', 'Crime', 'Thriller']         851   \n",
       "4879                                           ['Drama']         457   \n",
       "13847                      ['History', 'Crime', 'Drama']        1371   \n",
       "17342           ['Action', 'Crime', 'Drama', 'Thriller']         399   \n",
       "11130       ['Action', 'Adventure', 'Crime', 'Thriller']         494   \n",
       "25834                      ['Crime', 'Drama', 'Mystery']         842   \n",
       "\n",
       "       vote_average  popularity  weighted_rating  \n",
       "2890            7.3   11.356900         6.951717  \n",
       "8071            7.0   13.455112         6.897452  \n",
       "1357            7.1   15.228794         6.897399  \n",
       "2466            7.2    5.283661         6.839131  \n",
       "13042           6.9    7.263988         6.773145  \n",
       "4879            6.7    9.303104         6.597778  \n",
       "13847           6.5   10.364794         6.492692  \n",
       "17342           6.1    7.000421         6.269886  \n",
       "11130           5.7   11.725450         6.016400  \n",
       "25834           5.1   14.932368         5.499856  "
      ]
     },
     "execution_count": 25,
     "metadata": {},
     "output_type": "execute_result"
    }
   ],
   "source": [
    "improved_recommendations('Heat')"
   ]
  },
  {
   "cell_type": "code",
   "execution_count": 26,
   "metadata": {
    "_cell_guid": "69a93363-d82c-47e3-94fc-d59a219a4f3a",
    "_uuid": "a04523fa7c17a9ae25d5fcade4c817d35e8b6f19"
   },
   "outputs": [
    {
     "data": {
      "text/html": [
       "<div>\n",
       "<style scoped>\n",
       "    .dataframe tbody tr th:only-of-type {\n",
       "        vertical-align: middle;\n",
       "    }\n",
       "\n",
       "    .dataframe tbody tr th {\n",
       "        vertical-align: top;\n",
       "    }\n",
       "\n",
       "    .dataframe thead th {\n",
       "        text-align: right;\n",
       "    }\n",
       "</style>\n",
       "<table border=\"1\" class=\"dataframe\">\n",
       "  <thead>\n",
       "    <tr style=\"text-align: right;\">\n",
       "      <th></th>\n",
       "      <th>id</th>\n",
       "      <th>title</th>\n",
       "      <th>release_date</th>\n",
       "      <th>genres</th>\n",
       "      <th>vote_count</th>\n",
       "      <th>vote_average</th>\n",
       "      <th>popularity</th>\n",
       "      <th>weighted_rating</th>\n",
       "    </tr>\n",
       "  </thead>\n",
       "  <tbody>\n",
       "    <tr>\n",
       "      <th>2843</th>\n",
       "      <td>550</td>\n",
       "      <td>Fight Club</td>\n",
       "      <td>1999-10-15</td>\n",
       "      <td>['Drama']</td>\n",
       "      <td>9678</td>\n",
       "      <td>8.3</td>\n",
       "      <td>63.869599</td>\n",
       "      <td>8.136671</td>\n",
       "    </tr>\n",
       "    <tr>\n",
       "      <th>46</th>\n",
       "      <td>807</td>\n",
       "      <td>Se7en</td>\n",
       "      <td>1995-09-22</td>\n",
       "      <td>['Crime', 'Mystery', 'Thriller']</td>\n",
       "      <td>5915</td>\n",
       "      <td>8.1</td>\n",
       "      <td>18.457430</td>\n",
       "      <td>7.882168</td>\n",
       "    </tr>\n",
       "    <tr>\n",
       "      <th>1551</th>\n",
       "      <td>2649</td>\n",
       "      <td>The Game</td>\n",
       "      <td>1997-09-12</td>\n",
       "      <td>['Drama', 'Thriller', 'Mystery']</td>\n",
       "      <td>1556</td>\n",
       "      <td>7.5</td>\n",
       "      <td>14.825587</td>\n",
       "      <td>7.185797</td>\n",
       "    </tr>\n",
       "    <tr>\n",
       "      <th>13219</th>\n",
       "      <td>4922</td>\n",
       "      <td>The Curious Case of Benjamin Button</td>\n",
       "      <td>2008-11-24</td>\n",
       "      <td>['Fantasy', 'Drama', 'Thriller', 'Mystery', 'R...</td>\n",
       "      <td>3398</td>\n",
       "      <td>7.3</td>\n",
       "      <td>17.934821</td>\n",
       "      <td>7.163616</td>\n",
       "    </tr>\n",
       "    <tr>\n",
       "      <th>11646</th>\n",
       "      <td>1949</td>\n",
       "      <td>Zodiac</td>\n",
       "      <td>2007-03-02</td>\n",
       "      <td>['Crime', 'Drama', 'Mystery', 'Thriller']</td>\n",
       "      <td>2080</td>\n",
       "      <td>7.3</td>\n",
       "      <td>19.083823</td>\n",
       "      <td>7.107934</td>\n",
       "    </tr>\n",
       "    <tr>\n",
       "      <th>18293</th>\n",
       "      <td>65754</td>\n",
       "      <td>The Girl with the Dragon Tattoo</td>\n",
       "      <td>2011-12-14</td>\n",
       "      <td>['Thriller', 'Crime', 'Mystery', 'Drama']</td>\n",
       "      <td>2479</td>\n",
       "      <td>7.2</td>\n",
       "      <td>8.907829</td>\n",
       "      <td>7.060717</td>\n",
       "    </tr>\n",
       "    <tr>\n",
       "      <th>15798</th>\n",
       "      <td>37799</td>\n",
       "      <td>The Social Network</td>\n",
       "      <td>2010-09-30</td>\n",
       "      <td>['Drama']</td>\n",
       "      <td>3492</td>\n",
       "      <td>7.1</td>\n",
       "      <td>16.972995</td>\n",
       "      <td>7.015868</td>\n",
       "    </tr>\n",
       "    <tr>\n",
       "      <th>5132</th>\n",
       "      <td>4547</td>\n",
       "      <td>Panic Room</td>\n",
       "      <td>2002-03-29</td>\n",
       "      <td>['Crime', 'Drama', 'Thriller']</td>\n",
       "      <td>1303</td>\n",
       "      <td>6.6</td>\n",
       "      <td>14.969502</td>\n",
       "      <td>6.674948</td>\n",
       "    </tr>\n",
       "    <tr>\n",
       "      <th>1273</th>\n",
       "      <td>8077</td>\n",
       "      <td>Alien³</td>\n",
       "      <td>1992-05-22</td>\n",
       "      <td>['Science Fiction', 'Action', 'Horror']</td>\n",
       "      <td>1664</td>\n",
       "      <td>6.2</td>\n",
       "      <td>17.126768</td>\n",
       "      <td>6.428644</td>\n",
       "    </tr>\n",
       "    <tr>\n",
       "      <th>20048</th>\n",
       "      <td>75780</td>\n",
       "      <td>Jack Reacher</td>\n",
       "      <td>2012-12-20</td>\n",
       "      <td>['Crime', 'Drama', 'Thriller']</td>\n",
       "      <td>3046</td>\n",
       "      <td>6.3</td>\n",
       "      <td>12.789812</td>\n",
       "      <td>6.425929</td>\n",
       "    </tr>\n",
       "  </tbody>\n",
       "</table>\n",
       "</div>"
      ],
      "text/plain": [
       "          id                                title release_date  \\\n",
       "2843     550                           Fight Club   1999-10-15   \n",
       "46       807                                Se7en   1995-09-22   \n",
       "1551    2649                             The Game   1997-09-12   \n",
       "13219   4922  The Curious Case of Benjamin Button   2008-11-24   \n",
       "11646   1949                               Zodiac   2007-03-02   \n",
       "18293  65754      The Girl with the Dragon Tattoo   2011-12-14   \n",
       "15798  37799                   The Social Network   2010-09-30   \n",
       "5132    4547                           Panic Room   2002-03-29   \n",
       "1273    8077                               Alien³   1992-05-22   \n",
       "20048  75780                         Jack Reacher   2012-12-20   \n",
       "\n",
       "                                                  genres  vote_count  \\\n",
       "2843                                           ['Drama']        9678   \n",
       "46                      ['Crime', 'Mystery', 'Thriller']        5915   \n",
       "1551                    ['Drama', 'Thriller', 'Mystery']        1556   \n",
       "13219  ['Fantasy', 'Drama', 'Thriller', 'Mystery', 'R...        3398   \n",
       "11646          ['Crime', 'Drama', 'Mystery', 'Thriller']        2080   \n",
       "18293          ['Thriller', 'Crime', 'Mystery', 'Drama']        2479   \n",
       "15798                                          ['Drama']        3492   \n",
       "5132                      ['Crime', 'Drama', 'Thriller']        1303   \n",
       "1273             ['Science Fiction', 'Action', 'Horror']        1664   \n",
       "20048                     ['Crime', 'Drama', 'Thriller']        3046   \n",
       "\n",
       "       vote_average  popularity  weighted_rating  \n",
       "2843            8.3   63.869599         8.136671  \n",
       "46              8.1   18.457430         7.882168  \n",
       "1551            7.5   14.825587         7.185797  \n",
       "13219           7.3   17.934821         7.163616  \n",
       "11646           7.3   19.083823         7.107934  \n",
       "18293           7.2    8.907829         7.060717  \n",
       "15798           7.1   16.972995         7.015868  \n",
       "5132            6.6   14.969502         6.674948  \n",
       "1273            6.2   17.126768         6.428644  \n",
       "20048           6.3   12.789812         6.425929  "
      ]
     },
     "execution_count": 26,
     "metadata": {},
     "output_type": "execute_result"
    }
   ],
   "source": [
    "improved_recommendations('Gone Girl')"
   ]
  },
  {
   "cell_type": "markdown",
   "metadata": {
    "_cell_guid": "a9a16fac-217d-4b36-b280-ca250ee921fe",
    "_uuid": "ddc06567eb0fe770c7f3b77f3cb7b777a6923f5c"
   },
   "source": [
    "## 3. Collaborative Filtering\n",
    "\n",
    "This system allows for providing recommendations that are tailored to the user specifically by using their rating and comparing their tastes to other users. If it finds users with similar tastes, it can provide movies that those users enjoyed which the original user has not yet seen."
   ]
  },
  {
   "cell_type": "code",
   "execution_count": 27,
   "metadata": {},
   "outputs": [
    {
     "name": "stdout",
     "output_type": "stream",
     "text": [
      "Requirement already satisfied: scikit-surprise in /opt/anaconda3/lib/python3.9/site-packages (1.1.3)\n",
      "Requirement already satisfied: scipy>=1.3.2 in /opt/anaconda3/lib/python3.9/site-packages (from scikit-surprise) (1.9.1)\n",
      "Requirement already satisfied: numpy>=1.17.3 in /opt/anaconda3/lib/python3.9/site-packages (from scikit-surprise) (1.21.5)\n",
      "Requirement already satisfied: joblib>=1.0.0 in /opt/anaconda3/lib/python3.9/site-packages (from scikit-surprise) (1.1.0)\n",
      "Note: you may need to restart the kernel to use updated packages.\n"
     ]
    }
   ],
   "source": [
    "pip install scikit-surprise"
   ]
  },
  {
   "cell_type": "code",
   "execution_count": 28,
   "metadata": {
    "pycharm": {
     "name": "#%%\n"
    }
   },
   "outputs": [
    {
     "data": {
      "text/html": [
       "<div>\n",
       "<style scoped>\n",
       "    .dataframe tbody tr th:only-of-type {\n",
       "        vertical-align: middle;\n",
       "    }\n",
       "\n",
       "    .dataframe tbody tr th {\n",
       "        vertical-align: top;\n",
       "    }\n",
       "\n",
       "    .dataframe thead th {\n",
       "        text-align: right;\n",
       "    }\n",
       "</style>\n",
       "<table border=\"1\" class=\"dataframe\">\n",
       "  <thead>\n",
       "    <tr style=\"text-align: right;\">\n",
       "      <th></th>\n",
       "      <th>userId</th>\n",
       "      <th>movieId</th>\n",
       "      <th>rating</th>\n",
       "      <th>timestamp</th>\n",
       "    </tr>\n",
       "  </thead>\n",
       "  <tbody>\n",
       "    <tr>\n",
       "      <th>0</th>\n",
       "      <td>1</td>\n",
       "      <td>31</td>\n",
       "      <td>2.5</td>\n",
       "      <td>1260759144</td>\n",
       "    </tr>\n",
       "    <tr>\n",
       "      <th>1</th>\n",
       "      <td>1</td>\n",
       "      <td>1029</td>\n",
       "      <td>3.0</td>\n",
       "      <td>1260759179</td>\n",
       "    </tr>\n",
       "    <tr>\n",
       "      <th>2</th>\n",
       "      <td>1</td>\n",
       "      <td>1061</td>\n",
       "      <td>3.0</td>\n",
       "      <td>1260759182</td>\n",
       "    </tr>\n",
       "    <tr>\n",
       "      <th>3</th>\n",
       "      <td>1</td>\n",
       "      <td>1129</td>\n",
       "      <td>2.0</td>\n",
       "      <td>1260759185</td>\n",
       "    </tr>\n",
       "    <tr>\n",
       "      <th>4</th>\n",
       "      <td>1</td>\n",
       "      <td>1172</td>\n",
       "      <td>4.0</td>\n",
       "      <td>1260759205</td>\n",
       "    </tr>\n",
       "  </tbody>\n",
       "</table>\n",
       "</div>"
      ],
      "text/plain": [
       "   userId  movieId  rating   timestamp\n",
       "0       1       31     2.5  1260759144\n",
       "1       1     1029     3.0  1260759179\n",
       "2       1     1061     3.0  1260759182\n",
       "3       1     1129     2.0  1260759185\n",
       "4       1     1172     4.0  1260759205"
      ]
     },
     "execution_count": 28,
     "metadata": {},
     "output_type": "execute_result"
    }
   ],
   "source": [
    "import surprise\n",
    "from surprise import Reader, Dataset, SVD\n",
    "from surprise import accuracy\n",
    "from surprise.model_selection import train_test_split\n",
    "\n",
    "ratings = pd.read_csv('/Users/awikasaeng/Downloads/Movie-Recommender-Systems-main/input/the-movies-dataset/ratings_small.csv')\n",
    "ratings.head()"
   ]
  },
  {
   "cell_type": "markdown",
   "metadata": {
    "_cell_guid": "632e75c9-0068-456a-82d5-8a8eb44e98df",
    "_uuid": "de715e5b70a605e3bd65ad50bbfa9b71aac1aef4",
    "collapsed": true,
    "jupyter": {
     "outputs_hidden": true
    },
    "pycharm": {
     "name": "#%% md\n"
    }
   },
   "source": [
    "This system uses a machine-learning algorithm called **Singular Value Decomposition (SVD)** to predict and approximate user ratings for movies they have not seen yet."
   ]
  },
  {
   "cell_type": "code",
   "execution_count": 29,
   "metadata": {
    "_cell_guid": "f2f755fd-c3ef-4095-add8-f88350cf1b36",
    "_uuid": "daa1711d353573b2dcf5145f1882397a2adcab27",
    "jupyter": {
     "outputs_hidden": true
    }
   },
   "outputs": [
    {
     "name": "stdout",
     "output_type": "stream",
     "text": [
      "RMSE: 0.8945\n"
     ]
    },
    {
     "data": {
      "text/plain": [
       "0.8944873442350099"
      ]
     },
     "execution_count": 29,
     "metadata": {},
     "output_type": "execute_result"
    }
   ],
   "source": [
    "data = Dataset.load_from_df(ratings[['userId', 'movieId', 'rating']], Reader())\n",
    "\n",
    "# sample random trainset and testset\n",
    "# test set is made of 25% of the ratings.\n",
    "trainset, testset = train_test_split(data, test_size=.25)\n",
    "\n",
    "# using the SVD algorithm\n",
    "algo = SVD()\n",
    "\n",
    "# Train the algorithm on the trainset, and predict ratings for the testset\n",
    "algo.fit(trainset)\n",
    "predictions = algo.test(testset)\n",
    "\n",
    "# Then compute RMSE - should be a small number\n",
    "accuracy.rmse(predictions)"
   ]
  },
  {
   "cell_type": "markdown",
   "metadata": {
    "_cell_guid": "0ac7021a-9174-48bd-a1ca-5ab227409963",
    "_uuid": "6f3d3cd411dc437a28ddbd184e77d9229bf224a2"
   },
   "source": [
    "The **Root Mean Square Error** serves as a metric for how much the algorithm deviates from expected values. The RMSE is small so we can be confident that the model fits the data."
   ]
  },
  {
   "cell_type": "code",
   "execution_count": 30,
   "metadata": {
    "_cell_guid": "b39199fa-a02c-4509-852d-85020b36424d",
    "_uuid": "b588afd2750b0ba0793b953edac8c366222f8500",
    "jupyter": {
     "outputs_hidden": true
    }
   },
   "outputs": [
    {
     "data": {
      "text/plain": [
       "<surprise.prediction_algorithms.matrix_factorization.SVD at 0x7f82a063cfd0>"
      ]
     },
     "execution_count": 30,
     "metadata": {},
     "output_type": "execute_result"
    }
   ],
   "source": [
    "trainset = data.build_full_trainset()\n",
    "algo.fit(trainset)"
   ]
  },
  {
   "cell_type": "markdown",
   "metadata": {
    "_cell_guid": "9d6653dc-7ad4-4c78-9c50-bbfe988b4397",
    "_uuid": "f9fc5344c7545c16539aa0966f62b59be1761f34"
   },
   "source": [
    "Let's predict what user ID 1 would rate **Toy Story**, the movie with ID 862.\n",
    "\n"
   ]
  },
  {
   "cell_type": "code",
   "execution_count": 31,
   "metadata": {
    "_cell_guid": "e0701e4b-dde1-4791-b96e-faa4ae40df8e",
    "_uuid": "9c22aa0cc39595a4414d227a284f92b382eab67a"
   },
   "outputs": [
    {
     "data": {
      "text/plain": [
       "Prediction(uid=1, iid=862, r_ui=None, est=2.7156856402662997, details={'was_impossible': False})"
      ]
     },
     "execution_count": 31,
     "metadata": {},
     "output_type": "execute_result"
    }
   ],
   "source": [
    "# user ID, movie ID\n",
    "algo.predict(1, 862)"
   ]
  },
  {
   "cell_type": "markdown",
   "metadata": {
    "_cell_guid": "42878787-6661-4d30-b58a-c5408e683157",
    "_uuid": "ba08a1dc335c8662f4bec66cec36fef04b2c63b5"
   },
   "source": [
    "The system predicts that user 1 would give Toy Story a rating of **2.658**.\n",
    "Given a movie ID, this system tries to determine the likeliest score that a user would give that movie by comparing their ratings with users with similar tastes that have seen the movie."
   ]
  },
  {
   "cell_type": "markdown",
   "metadata": {
    "_cell_guid": "248ec145-20e4-429c-8718-5c20834be1be",
    "_uuid": "b6fe882ef8417e28bb024306a3879dc67affb7c6"
   },
   "source": [
    "## 4. Hybrid Recommendation System"
   ]
  },
  {
   "cell_type": "markdown",
   "metadata": {
    "_cell_guid": "a22740ea-3bfd-4045-89f3-e4199b0c2c6a",
    "_uuid": "0bbff42606aede898eb199443c8c0c5e39a48650"
   },
   "source": [
    "This system combines the content-based and collaborative systems to provide movie recommendations.\n",
    "\n",
    "It takes the user ID and a movie title and outputs movies similar to the given movies while taking estimated ratings into account."
   ]
  },
  {
   "cell_type": "code",
   "execution_count": 32,
   "metadata": {
    "_cell_guid": "97a7efdb-9b93-4ed2-ac89-45c2f99a7304",
    "_uuid": "299a5feac15cdb6fd01f4e243949ba2424f5901c",
    "jupyter": {
     "outputs_hidden": true
    }
   },
   "outputs": [],
   "source": [
    "id_map = pd.read_csv('/Users/awikasaeng/Downloads/Movie-Recommender-Systems-main/input/the-movies-dataset/links_small.csv',\n",
    "                     usecols=['movieId', 'tmdbId'])\n",
    "id_map = id_map.dropna().astype(int).set_index('tmdbId')\n",
    "\n",
    "\n",
    "def hybrid(userid, title):\n",
    "    movies = recommend(title)\n",
    "    movies['est'] = [algo.predict(userid, id_map.loc[x]['movieId']).est for x in movies.index]\n",
    "    movies = movies.sort_values('est', ascending=False)\n",
    "    return movies.head(10)"
   ]
  },
  {
   "cell_type": "code",
   "execution_count": 33,
   "metadata": {
    "_cell_guid": "ef53f237-5dd0-4f62-8c32-e9666b2268f5",
    "_uuid": "5cea2292f710fae80d580aa43c713531e97451ad"
   },
   "outputs": [
    {
     "data": {
      "text/html": [
       "<div>\n",
       "<style scoped>\n",
       "    .dataframe tbody tr th:only-of-type {\n",
       "        vertical-align: middle;\n",
       "    }\n",
       "\n",
       "    .dataframe tbody tr th {\n",
       "        vertical-align: top;\n",
       "    }\n",
       "\n",
       "    .dataframe thead th {\n",
       "        text-align: right;\n",
       "    }\n",
       "</style>\n",
       "<table border=\"1\" class=\"dataframe\">\n",
       "  <thead>\n",
       "    <tr style=\"text-align: right;\">\n",
       "      <th></th>\n",
       "      <th>title</th>\n",
       "      <th>description</th>\n",
       "      <th>est</th>\n",
       "    </tr>\n",
       "    <tr>\n",
       "      <th>id</th>\n",
       "      <th></th>\n",
       "      <th></th>\n",
       "      <th></th>\n",
       "    </tr>\n",
       "  </thead>\n",
       "  <tbody>\n",
       "    <tr>\n",
       "      <th>103</th>\n",
       "      <td>Taxi Driver</td>\n",
       "      <td>A mentally unstable Vietnam War veteran works ...</td>\n",
       "      <td>3.713683</td>\n",
       "    </tr>\n",
       "    <tr>\n",
       "      <th>629</th>\n",
       "      <td>The Usual Suspects</td>\n",
       "      <td>Held in an L.A. interrogation room, Verbal Kin...</td>\n",
       "      <td>3.671035</td>\n",
       "    </tr>\n",
       "    <tr>\n",
       "      <th>603</th>\n",
       "      <td>The Matrix</td>\n",
       "      <td>Set in the 22nd century, The Matrix tells the ...</td>\n",
       "      <td>3.604926</td>\n",
       "    </tr>\n",
       "    <tr>\n",
       "      <th>11645</th>\n",
       "      <td>Ran</td>\n",
       "      <td>Set in Japan in the 16th century (or so), an e...</td>\n",
       "      <td>3.578919</td>\n",
       "    </tr>\n",
       "    <tr>\n",
       "      <th>625</th>\n",
       "      <td>The Killing Fields</td>\n",
       "      <td>The Killing Fields tells the real life story o...</td>\n",
       "      <td>3.548431</td>\n",
       "    </tr>\n",
       "    <tr>\n",
       "      <th>37853</th>\n",
       "      <td>Mister Roberts</td>\n",
       "      <td>A hilarious and heartfelt military comedy-dram...</td>\n",
       "      <td>3.542115</td>\n",
       "    </tr>\n",
       "    <tr>\n",
       "      <th>1891</th>\n",
       "      <td>The Empire Strikes Back</td>\n",
       "      <td>The epic saga continues as Luke Skywalker, in ...</td>\n",
       "      <td>3.534786</td>\n",
       "    </tr>\n",
       "    <tr>\n",
       "      <th>901</th>\n",
       "      <td>City Lights</td>\n",
       "      <td>City Lights is the first silent film that Char...</td>\n",
       "      <td>3.528254</td>\n",
       "    </tr>\n",
       "    <tr>\n",
       "      <th>238</th>\n",
       "      <td>The Godfather</td>\n",
       "      <td>Spanning the years 1945 to 1955, a chronicle o...</td>\n",
       "      <td>3.524424</td>\n",
       "    </tr>\n",
       "    <tr>\n",
       "      <th>423</th>\n",
       "      <td>The Pianist</td>\n",
       "      <td>The Pianist is a film adapted from the biograp...</td>\n",
       "      <td>3.517847</td>\n",
       "    </tr>\n",
       "  </tbody>\n",
       "</table>\n",
       "</div>"
      ],
      "text/plain": [
       "                         title  \\\n",
       "id                               \n",
       "103                Taxi Driver   \n",
       "629         The Usual Suspects   \n",
       "603                 The Matrix   \n",
       "11645                      Ran   \n",
       "625         The Killing Fields   \n",
       "37853           Mister Roberts   \n",
       "1891   The Empire Strikes Back   \n",
       "901                City Lights   \n",
       "238              The Godfather   \n",
       "423                The Pianist   \n",
       "\n",
       "                                             description       est  \n",
       "id                                                                  \n",
       "103    A mentally unstable Vietnam War veteran works ...  3.713683  \n",
       "629    Held in an L.A. interrogation room, Verbal Kin...  3.671035  \n",
       "603    Set in the 22nd century, The Matrix tells the ...  3.604926  \n",
       "11645  Set in Japan in the 16th century (or so), an e...  3.578919  \n",
       "625    The Killing Fields tells the real life story o...  3.548431  \n",
       "37853  A hilarious and heartfelt military comedy-dram...  3.542115  \n",
       "1891   The epic saga continues as Luke Skywalker, in ...  3.534786  \n",
       "901    City Lights is the first silent film that Char...  3.528254  \n",
       "238    Spanning the years 1945 to 1955, a chronicle o...  3.524424  \n",
       "423    The Pianist is a film adapted from the biograp...  3.517847  "
      ]
     },
     "execution_count": 33,
     "metadata": {},
     "output_type": "execute_result"
    }
   ],
   "source": [
    "hybrid(1, 'Avatar')"
   ]
  },
  {
   "cell_type": "code",
   "execution_count": 34,
   "metadata": {
    "_cell_guid": "381aba27-ecfa-43f1-9dad-c3379a57b8d9",
    "_uuid": "7fc2843807a5fbe792729eee7c74e9cabc6867ca"
   },
   "outputs": [
    {
     "data": {
      "text/html": [
       "<div>\n",
       "<style scoped>\n",
       "    .dataframe tbody tr th:only-of-type {\n",
       "        vertical-align: middle;\n",
       "    }\n",
       "\n",
       "    .dataframe tbody tr th {\n",
       "        vertical-align: top;\n",
       "    }\n",
       "\n",
       "    .dataframe thead th {\n",
       "        text-align: right;\n",
       "    }\n",
       "</style>\n",
       "<table border=\"1\" class=\"dataframe\">\n",
       "  <thead>\n",
       "    <tr style=\"text-align: right;\">\n",
       "      <th></th>\n",
       "      <th>title</th>\n",
       "      <th>description</th>\n",
       "      <th>est</th>\n",
       "    </tr>\n",
       "    <tr>\n",
       "      <th>id</th>\n",
       "      <th></th>\n",
       "      <th></th>\n",
       "      <th></th>\n",
       "    </tr>\n",
       "  </thead>\n",
       "  <tbody>\n",
       "    <tr>\n",
       "      <th>637</th>\n",
       "      <td>Life Is Beautiful</td>\n",
       "      <td>A touching story of an Italian book seller of ...</td>\n",
       "      <td>4.591762</td>\n",
       "    </tr>\n",
       "    <tr>\n",
       "      <th>13</th>\n",
       "      <td>Forrest Gump</td>\n",
       "      <td>A man with a low IQ has accomplished great thi...</td>\n",
       "      <td>4.167963</td>\n",
       "    </tr>\n",
       "    <tr>\n",
       "      <th>8392</th>\n",
       "      <td>My Neighbor Totoro</td>\n",
       "      <td>Two sisters move to the country with their fat...</td>\n",
       "      <td>4.098971</td>\n",
       "    </tr>\n",
       "    <tr>\n",
       "      <th>587</th>\n",
       "      <td>Big Fish</td>\n",
       "      <td>Throughout his life Edward Bloom has always be...</td>\n",
       "      <td>4.087997</td>\n",
       "    </tr>\n",
       "    <tr>\n",
       "      <th>497</th>\n",
       "      <td>The Green Mile</td>\n",
       "      <td>A supernatural tale set on death row in a Sout...</td>\n",
       "      <td>4.074447</td>\n",
       "    </tr>\n",
       "    <tr>\n",
       "      <th>7985</th>\n",
       "      <td>Penelope</td>\n",
       "      <td>Forlorn heiress Penelope Wilhern is cursed, an...</td>\n",
       "      <td>4.008574</td>\n",
       "    </tr>\n",
       "    <tr>\n",
       "      <th>10705</th>\n",
       "      <td>Henry V</td>\n",
       "      <td>Gritty adaption of William Shakespeare's play ...</td>\n",
       "      <td>3.989948</td>\n",
       "    </tr>\n",
       "    <tr>\n",
       "      <th>3090</th>\n",
       "      <td>The Treasure of the Sierra Madre</td>\n",
       "      <td>Fred C. Dobbs and Bob Curtin, both down on the...</td>\n",
       "      <td>3.920251</td>\n",
       "    </tr>\n",
       "    <tr>\n",
       "      <th>508</th>\n",
       "      <td>Love Actually</td>\n",
       "      <td>Follows seemingly unrelated people as their li...</td>\n",
       "      <td>3.905340</td>\n",
       "    </tr>\n",
       "    <tr>\n",
       "      <th>4808</th>\n",
       "      <td>Charade</td>\n",
       "      <td>After Regina Lampert falls for the dashing Pet...</td>\n",
       "      <td>3.864646</td>\n",
       "    </tr>\n",
       "  </tbody>\n",
       "</table>\n",
       "</div>"
      ],
      "text/plain": [
       "                                  title  \\\n",
       "id                                        \n",
       "637                   Life Is Beautiful   \n",
       "13                         Forrest Gump   \n",
       "8392                 My Neighbor Totoro   \n",
       "587                            Big Fish   \n",
       "497                      The Green Mile   \n",
       "7985                           Penelope   \n",
       "10705                           Henry V   \n",
       "3090   The Treasure of the Sierra Madre   \n",
       "508                       Love Actually   \n",
       "4808                            Charade   \n",
       "\n",
       "                                             description       est  \n",
       "id                                                                  \n",
       "637    A touching story of an Italian book seller of ...  4.591762  \n",
       "13     A man with a low IQ has accomplished great thi...  4.167963  \n",
       "8392   Two sisters move to the country with their fat...  4.098971  \n",
       "587    Throughout his life Edward Bloom has always be...  4.087997  \n",
       "497    A supernatural tale set on death row in a Sout...  4.074447  \n",
       "7985   Forlorn heiress Penelope Wilhern is cursed, an...  4.008574  \n",
       "10705  Gritty adaption of William Shakespeare's play ...  3.989948  \n",
       "3090   Fred C. Dobbs and Bob Curtin, both down on the...  3.920251  \n",
       "508    Follows seemingly unrelated people as their li...  3.905340  \n",
       "4808   After Regina Lampert falls for the dashing Pet...  3.864646  "
      ]
     },
     "execution_count": 34,
     "metadata": {},
     "output_type": "execute_result"
    }
   ],
   "source": [
    "hybrid(500, 'Avatar')"
   ]
  },
  {
   "cell_type": "markdown",
   "metadata": {
    "_cell_guid": "ca97ebb9-d1d2-4631-a15e-d29580c6c4d1",
    "_uuid": "446cdfa0b07f4f734d483393d56735c280978555"
   },
   "source": [
    "This recommender will provide a different list of movies depending on the user, so it is personalized and reflects the user's previous ratings."
   ]
  }
 ],
 "metadata": {
  "kernelspec": {
   "display_name": "Python 3 (ipykernel)",
   "language": "python",
   "name": "python3"
  },
  "language_info": {
   "codemirror_mode": {
    "name": "ipython",
    "version": 3
   },
   "file_extension": ".py",
   "mimetype": "text/x-python",
   "name": "python",
   "nbconvert_exporter": "python",
   "pygments_lexer": "ipython3",
   "version": "3.9.13"
  }
 },
 "nbformat": 4,
 "nbformat_minor": 4
}
